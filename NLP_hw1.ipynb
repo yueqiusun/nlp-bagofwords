{
 "cells": [
  {
   "cell_type": "code",
   "execution_count": 1,
   "metadata": {
    "collapsed": true
   },
   "outputs": [],
   "source": [
    "# merge all training and testing file in|to one file respectively\n",
    "#!for split in train test; do for sentiment in pos neg; do for file in aclImdb/$split/$sentiment/*; do cat $file >> aclImdb/movie_data/full_${split}_$sentiment.txt; echo >> aclImdb/movie_data/full_${split}_$sentiment.txt; done; done; done;"
   ]
  },
  {
   "cell_type": "code",
   "execution_count": 22,
   "metadata": {
    "scrolled": false
   },
   "outputs": [
    {
     "name": "stdout",
     "output_type": "stream",
     "text": [
      "Bromwell High is a cartoon comedy. It ran at the same time as some other programs about school life, such as \"Teachers\". My 35 years in the teaching profession lead me to believe that Bromwell High's satire is much closer to reality than is \"Teachers\". The scramble to survive financially, the insightful students who can see right through their pathetic teachers' pomp, the pettiness of the whole situation, all remind me of the schools I knew and their students. When I saw the episode in which a student repeatedly tried to burn down the school, I immediately recalled ......... at .......... High. A classic line: INSPECTOR: I'm here to sack one of your teachers. STUDENT: Welcome to Bromwell High. I expect that many adults of my age think that Bromwell High is far fetched. What a pity that it isn't!\r\n",
      "Homelessness (or Houselessness as George Carlin stated) has been an issue for years but never a plan to help those on the street that were once considered human who did everything from going to school, work, or vote for the matter. Most people think of the homeless as just a lost cause while worrying about things such as racism, the war on Iraq, pressuring kids to succeed, technology, the elections, inflation, or worrying if they'll be next to end up on the streets.<br /><br />But what if you were given a bet to live on the streets for a month without the luxuries you once had from a home, the entertainment sets, a bathroom, pictures on the wall, a computer, and everything you once treasure to see what it's like to be homeless? That is Goddard Bolt's lesson.<br /><br />Mel Brooks (who directs) who stars as Bolt plays a rich man who has everything in the world until deciding to make a bet with a sissy rival (Jeffery Tambor) to see if he can live in the streets for thirty days without the luxuries; if Bolt succeeds, he can do what he wants with a future project of making more buildings. The bet's on where Bolt is thrown on the street with a bracelet on his leg to monitor his every move where he can't step off the sidewalk. He's given the nickname Pepto by a vagrant after it's written on his forehead where Bolt meets other characters including a woman by the name of Molly (Lesley Ann Warren) an ex-dancer who got divorce before losing her home, and her pals Sailor (Howard Morris) and Fumes (Teddy Wilson) who are already used to the streets. They're survivors. Bolt isn't. He's not used to reaching mutual agreements like he once did when being rich where it's fight or flight, kill or be killed.<br /><br />While the love connection between Molly and Bolt wasn't necessary to plot, I found \"Life Stinks\" to be one of Mel Brooks' observant films where prior to being a comedy, it shows a tender side compared to his slapstick work such as Blazing Saddles, Young Frankenstein, or Spaceballs for the matter, to show what it's like having something valuable before losing it the next day or on the other hand making a stupid bet like all rich people do when they don't know what to do with their money. Maybe they should give it to the homeless instead of using it like Monopoly money.<br /><br />Or maybe this film will inspire you to help others.\r\n",
      "Brilliant over-acting by Lesley Ann Warren. Best dramatic hobo lady I have ever seen, and love scenes in clothes warehouse are second to none. The corn on face is a classic, as good as anything in Blazing Saddles. The take on lawyers is also superb. After being accused of being a turncoat, selling out his boss, and being dishonest the lawyer of Pepto Bolt shrugs indifferently \"I'm a lawyer\" he says. Three funny words. Jeffrey Tambor, a favorite from the later Larry Sanders show, is fantastic here too as a mad millionaire who wants to crush the ghetto. His character is more malevolent than usual. The hospital scene, and the scene where the homeless invade a demolition site, are all-time classics. Look for the legs scene and the two big diggers fighting (one bleeds). This movie gets better each time I see it (which is quite often).\r\n",
      "This is easily the most underrated film inn the Brooks cannon. Sure, its flawed. It does not give a realistic view of homelessness (unlike, say, how Citizen Kane gave a realistic view of lounge singers, or Titanic gave a realistic view of Italians YOU IDIOTS). Many of the jokes fall flat. But still, this film is very lovable in a way many comedies are not, and to pull that off in a story about some of the most traditionally reviled members of society is truly impressive. Its not The Fisher King, but its not crap, either. My only complaint is that Brooks should have cast someone else in the lead (I love Mel as a Director and Writer, not so much as a lead).\r\n",
      "This is not the typical Mel Brooks film. It was much less slapstick than most of his movies and actually had a plot that was followable. Leslie Ann Warren made the movie, she is such a fantastic, under-rated actress. There were some moments that could have been fleshed out a bit more, and some scenes that could probably have been cut to make the room to do so, but all in all, this is worth the price to rent and see it. The acting was good overall, Brooks himself did a good job without his characteristic speaking to directly to the audience. Again, Warren was the best actor in the movie, but \"Fume\" and \"Sailor\" both played their parts well.\r\n",
      "This isn't the comedic Robin Williams, nor is it the quirky/insane Robin Williams of recent thriller fame. This is a hybrid of the classic drama without over-dramatization, mixed with Robin's new love of the thriller. But this isn't a thriller, per se. This is more a mystery/suspense vehicle through which Williams attempts to locate a sick boy and his keeper.<br /><br />Also starring Sandra Oh and Rory Culkin, this Suspense Drama plays pretty much like a news report, until William's character gets close to achieving his goal.<br /><br />I must say that I was highly entertained, though this movie fails to teach, guide, inspect, or amuse. It felt more like I was watching a guy (Williams), as he was actually performing the actions, from a third person perspective. In other words, it felt real, and I was able to subscribe to the premise of the story.<br /><br />All in all, it's worth a watch, though it's definitely not Friday/Saturday night fare.<br /><br />It rates a 7.7/10 from...<br /><br />the Fiend :.\r\n",
      "Yes its an art... to successfully make a slow paced thriller.<br /><br />The story unfolds in nice volumes while you don't even notice it happening.<br /><br />Fine performance by Robin Williams. The sexuality angles in the film can seem unnecessary and can probably affect how much you enjoy the film. However, the core plot is very engaging. The movie doesn't rush onto you and still grips you enough to keep you wondering. The direction is good. Use of lights to achieve desired affects of suspense and unexpectedness is good.<br /><br />Very nice 1 time watch if you are looking to lay back and hear a thrilling short story!\r\n",
      "In this \"critically acclaimed psychological thriller based on true events, Gabriel (Robin Williams), a celebrated writer and late-night talk show host, becomes captivated by the harrowing story of a young listener and his adoptive mother (Toni Collette). When troubling questions arise about this boy's (story), however, Gabriel finds himself drawn into a widening mystery that hides a deadly secret",
      "\" according to film's official synopsis.<br /><br />You really should STOP reading these comments, and watch the film NOW...<br /><br />The \"How did he lose his leg?\" ending, with Ms. Collette planning her new life, should be chopped off, and sent to \"deleted scenes\" land. It's overkill. The true nature of her physical and mental ailments should be obvious, by the time Mr. Williams returns to New York. Possibly, her blindness could be in question - but a revelation could have be made certain in either the \"highway\" or \"video tape\" scenes. The film would benefit from a re-editing - how about a \"director's cut\"? <br /><br />Williams and Bobby Cannavale (as Jess) don't seem, initially, believable as a couple. A scene or two establishing their relationship might have helped set the stage. Otherwise, the cast is exemplary. Williams offers an exceptionally strong characterization, and not a \"gay impersonation\". Sandra Oh (as Anna), Joe Morton (as Ashe), and Rory Culkin (Pete Logand) are all perfect.<br /><br />Best of all, Collette's \"Donna\" belongs in the creepy hall of fame. Ms. Oh is correct in saying Collette might be, \"you know, like that guy from 'Psycho'.\" There have been several years when organizations giving acting awards seemed to reach for women, due to a slighter dispersion of roles; certainly, they could have noticed Collette with some award consideration. She is that good. And, director Patrick Stettner definitely evokes Hitchcock - he even makes getting a sandwich from a vending machine suspenseful.<br /><br />Finally, writers Stettner, Armistead Maupin, and Terry Anderson deserve gratitude from flight attendants everywhere.<br /><br />******* The Night Listener (1/21/06) Patrick Stettner ~ Robin Williams, Toni Collette, Sandra Oh, Rory Culkin\r\n",
      "THE NIGHT LISTENER (2006) **1/2 Robin Williams, Toni Collette, Bobby Cannavale, Rory Culkin, Joe Morton, Sandra Oh, John Cullum, Lisa Emery, Becky Ann Baker. (Dir: Patrick Stettner) <br /><br />Hitchcockian suspenser gives Williams a stand-out low-key performance.<br /><br />What is it about celebrities and fans? What is the near paranoia one associates with the other and why is it almost the norm? <br /><br />In the latest derange fan scenario, based on true events no less, Williams stars as a talk-radio personality named Gabriel No one, who reads stories he's penned over the airwaves and has accumulated an interesting fan in the form of a young boy named Pete Logand (Culkin) who has submitted a manuscript about the travails of his troubled youth to No one's editor Ashe (Morton) who gives it to No one to read for himself. <br /><br />No one is naturally disturbed but ultimately intrigued about the nightmarish existence of Pete being abducted and sexually abused for years until he was finally rescued by a nurse named Donna (Collette giving an excellent performance) who has adopted the boy but her correspondence with No one reveals that Pete is dying from AIDS. Naturally No one wants to meet the fans but is suddenly in doubt to their possibly devious ulterior motives when the seed is planted by his estranged lover Jess (Cannavale) whose sudden departure from their New York City apartment has No one in an emotional tailspin that has only now grown into a tempest in a teacup when he decides to do some investigating into Donna and Pete's backgrounds discovering some truths that he didn't anticipate.<br /><br />Written by Armistead Maupin (who co-wrote the screenplay with his former lover Terry Anderson and the film's novice director Stettner) and based on a true story about a fan's hoax found out has some Hitchcockian moments that run on full tilt like any good old fashioned pot-boiler does. It helps that Williams gives a stand-out, low-key performance as the conflicted good-hearted personality who genuinely wants to believe that his number one fan is in fact real and does love him (the one thing that has escaped his own reality) and has some unsettling dreadful moments with the creepy Collette whose one physical trait I will leave unmentioned but underlines the desperation of her character that can rattle you to the core.<br /><br />However the film runs out of gas and eventually becomes a bit repetitive and predictable despite a finely directed piece of hoodwink and mystery by Stettner, it pays to listen to your own inner voice: be careful of what you hope for.\r\n",
      "You know, Robin Williams, God bless him, is constantly shooting himself in the foot lately with all these dumb comedies he has done this decade (with perhaps the exception of \"Death To Smoochy\", which bombed when it came out but is now a cult classic). The dramas he has made lately have been fantastic, especially \"Insomnia\" and \"One Hour Photo\". \"The Night Listener\", despite mediocre reviews and a quick DVD release, is among his best work, period.<br /><br />This is a very chilling story, even though it doesn't include a serial killer or anyone that physically dangerous for that matter. The concept of the film is based on an actual case of fraud that still has yet to be officially confirmed. In high school, I read an autobiography by a child named Anthony Godby Johnson, who suffered horrific abuse and eventually contracted AIDS as a result. I was moved by the story until I read reports online that Johnson may not actually exist. When I saw this movie, the confused feelings that Robin Williams so brilliantly portrayed resurfaced in my mind.<br /><br />Toni Collette probably gives her best dramatic performance too as the ultimately sociopathic \"caretaker\". Her role was a far cry from those she had in movies like \"Little Miss Sunshine\". There were even times she looked into the camera where I thought she was staring right at me. It takes a good actress to play that sort of role, and it's this understated (yet well reviewed) role that makes Toni Collette probably one of the best actresses of this generation not to have even been nominated for an Academy Award (as of 2008). It's incredible that there is at least one woman in this world who is like this, and it's scary too.<br /><br />This is a good, dark film that I highly recommend. Be prepared to be unsettled, though, because this movie leaves you with a strange feeling at the end.\r\n"
     ]
    }
   ],
   "source": [
    "!head -10 ./aclImdb/movie_data/full_train_pos.txt"
   ]
  },
  {
   "cell_type": "code",
   "execution_count": 3,
   "metadata": {
    "collapsed": true
   },
   "outputs": [],
   "source": [
    "#build train_data_tokens.p, all_train_tokens.p, val_data_tokens.p, test_data_tokens.p\n",
    "#!python load_data.py   "
   ]
  },
  {
   "cell_type": "code",
   "execution_count": 1,
   "metadata": {
    "collapsed": true
   },
   "outputs": [],
   "source": [
    "import numpy as np\n",
    "import torch\n",
    "import pickle as pkl\n",
    "import torch.nn.functional as F\n",
    "import matplotlib.pyplot as plt\n",
    "\n",
    "from bagofwords import BagOfWords\n",
    "from module import Module as M\n",
    "from hyperparameter import Hyperparameter as hp\n",
    "import RR\n",
    "\n",
    "%load_ext autoreload\n",
    "%autoreload 2\n",
    "\n",
    "\n",
    "prepath_data = hp.prepath_data\n"
   ]
  },
  {
   "cell_type": "code",
   "execution_count": 21,
   "metadata": {
    "collapsed": true
   },
   "outputs": [],
   "source": [
    "#Hyperparameter tuning\n",
    "if_rp = 0 #whether to replace punctuations with space\n",
    "if_rb = 0 #whether to replace line break with space\n",
    "if_l = 1 #whether to lowercase the line\n",
    "if_rs = 0 #whether to remove stopwords\n",
    "max_vocab_size = 10000\n",
    "emb_dim = 200\n",
    "\n",
    "learning_rate = 0.001\n",
    "wd = 1e-5 #weight decay\n",
    "num_epochs = 20 # number epoch to train\n",
    "lr0 = 0.05\n",
    "lrd = 0.8\n",
    "mi = 1\n",
    "ma = 2"
   ]
  },
  {
   "cell_type": "code",
   "execution_count": 15,
   "metadata": {},
   "outputs": [
    {
     "name": "stdout",
     "output_type": "stream",
     "text": [
      "Train dataset size is 20000\n",
      "Val dataset size is 5000\n",
      "Test dataset size is 25000\n",
      "Tokenizing val data\n",
      "Tokenizing test data\n",
      "Tokenizing train data\n",
      "Tokenization complete\n",
      "Train dataset size is 20000\n",
      "Val dataset size is 5000\n",
      "Test dataset size is 25000\n",
      "Total number of tokens in train dataset is 4670600\n",
      "Token loaded\n"
     ]
    }
   ],
   "source": [
    "train_data, train_targets, val_data, val_targets, test_data, test_targets = RR.load_raw_data(if_rp = if_rp, if_rb = if_rb, if_l = if_l, if_rs = if_rs)\n",
    "RR.tokenization(train_data,val_data,test_data, min = mi, max = ma)\n",
    "train_data_tokens, val_data_tokens, test_data_tokens, all_train_tokens = RR.load_tokens()\n"
   ]
  },
  {
   "cell_type": "code",
   "execution_count": 16,
   "metadata": {},
   "outputs": [
    {
     "name": "stdout",
     "output_type": "stream",
     "text": [
      "Train dataset size is 20000\n",
      "Val dataset size is 5000\n",
      "Test dataset size is 25000\n"
     ]
    }
   ],
   "source": [
    "#create the vocabulary of most common 10,000 tokens in the training set.\n",
    "token2id, id2token = M.build_vocab(all_train_tokens, max_vocab_size)\n",
    "# convert token to id in the dataset\n",
    "train_data_indices = M.token2index_dataset(train_data_tokens, token2id)\n",
    "val_data_indices = M.token2index_dataset(val_data_tokens, token2id)\n",
    "test_data_indices = M.token2index_dataset(test_data_tokens, token2id)\n",
    "# double checking\n",
    "print (\"Train dataset size is {}\".format(len(train_data_indices)))\n",
    "print (\"Val dataset size is {}\".format(len(val_data_indices)))\n",
    "print (\"Test dataset size is {}\".format(len(test_data_indices)))\n",
    "\n",
    "#create PyTorch DataLoader \n",
    "train_loader, val_loader, test_loader = RR.dataloader(train_data_indices, train_targets, val_data_indices, val_targets, test_data_indices, test_targets)"
   ]
  },
  {
   "cell_type": "code",
   "execution_count": 17,
   "metadata": {
    "collapsed": true
   },
   "outputs": [],
   "source": [
    "def test_model(loader, model):\n",
    "    \"\"\"\n",
    "    Help function that tests the model's performance on a dataset\n",
    "    @param: loader - data loader for the dataset to test against\n",
    "    \"\"\"\n",
    "    correct = 0\n",
    "    total = 0\n",
    "    model.eval()\n",
    "    for data, lengths, labels in loader:\n",
    "        data_batch, length_batch, label_batch = data, lengths, labels\n",
    "        outputs = F.softmax(model(data_batch, length_batch), dim=1)\n",
    "        predicted = outputs.max(1, keepdim=True)[1]\n",
    "        \n",
    "        total += labels.size(0)\n",
    "        correct += predicted.eq(labels.view_as(predicted)).sum().item()\n",
    "    return (100 * correct / total)\n",
    "\n",
    "\n",
    "def adjust_learning_rate(optimizer, epoch, lr0, lrd):\n",
    "    \"\"\"Sets the learning rate to the initial LR decayed by 10 every 30 epochs\"\"\"\n",
    "    lr = lr0/(1+ lrd*epoch)\n",
    "    for param_group in optimizer.param_groups:\n",
    "        param_group['lr'] = lr"
   ]
  },
  {
   "cell_type": "markdown",
   "metadata": {},
   "source": [
    "Here we will define Bag-of-Words model in PyTorch"
   ]
  },
  {
   "cell_type": "code",
   "execution_count": 22,
   "metadata": {},
   "outputs": [
    {
     "name": "stdout",
     "output_type": "stream",
     "text": [
      "Epoch: [1/20], Step: [601/625], Validation Acc: 75.62\n",
      "Epoch: [2/20], Step: [601/625], Validation Acc: 68.0\n",
      "Epoch: [3/20], Step: [601/625], Validation Acc: 59.04\n",
      "Epoch: [4/20], Step: [601/625], Validation Acc: 81.82\n",
      "Epoch: [5/20], Step: [601/625], Validation Acc: 87.34\n",
      "Epoch: [6/20], Step: [601/625], Validation Acc: 85.02\n",
      "Epoch: [7/20], Step: [601/625], Validation Acc: 85.46\n",
      "Epoch: [8/20], Step: [601/625], Validation Acc: 86.96\n",
      "Epoch: [9/20], Step: [601/625], Validation Acc: 77.5\n",
      "Epoch: [10/20], Step: [601/625], Validation Acc: 79.34\n",
      "Epoch: [11/20], Step: [601/625], Validation Acc: 72.88\n",
      "Epoch: [12/20], Step: [601/625], Validation Acc: 78.76\n",
      "Epoch: [13/20], Step: [601/625], Validation Acc: 83.32\n",
      "Epoch: [14/20], Step: [601/625], Validation Acc: 75.32\n",
      "Epoch: [15/20], Step: [601/625], Validation Acc: 81.22\n",
      "Epoch: [16/20], Step: [601/625], Validation Acc: 79.36\n",
      "Epoch: [17/20], Step: [601/625], Validation Acc: 83.44\n",
      "Epoch: [18/20], Step: [601/625], Validation Acc: 83.02\n",
      "Epoch: [19/20], Step: [601/625], Validation Acc: 82.02\n",
      "Epoch: [20/20], Step: [601/625], Validation Acc: 81.02\n",
      "hyperparameter: (0.1, 0.5), Validation Acc: 78.14\n",
      "Epoch: [1/20], Step: [601/625], Validation Acc: 80.02\n",
      "Epoch: [2/20], Step: [601/625], Validation Acc: 83.56\n",
      "Epoch: [3/20], Step: [601/625], Validation Acc: 83.26\n",
      "Epoch: [4/20], Step: [601/625], Validation Acc: 86.86\n",
      "Epoch: [5/20], Step: [601/625], Validation Acc: 78.38\n",
      "Epoch: [6/20], Step: [601/625], Validation Acc: 83.08\n",
      "Epoch: [7/20], Step: [601/625], Validation Acc: 81.1\n",
      "Epoch: [8/20], Step: [601/625], Validation Acc: 75.34\n",
      "Epoch: [9/20], Step: [601/625], Validation Acc: 78.26\n",
      "Epoch: [10/20], Step: [601/625], Validation Acc: 82.44\n",
      "Epoch: [11/20], Step: [601/625], Validation Acc: 82.8\n",
      "Epoch: [12/20], Step: [601/625], Validation Acc: 83.94\n",
      "Epoch: [13/20], Step: [601/625], Validation Acc: 84.42\n",
      "Epoch: [14/20], Step: [601/625], Validation Acc: 83.02\n",
      "Epoch: [15/20], Step: [601/625], Validation Acc: 82.02\n",
      "Epoch: [16/20], Step: [601/625], Validation Acc: 81.88\n",
      "Epoch: [17/20], Step: [601/625], Validation Acc: 81.58\n",
      "Epoch: [18/20], Step: [601/625], Validation Acc: 80.96\n",
      "Epoch: [19/20], Step: [601/625], Validation Acc: 83.0\n",
      "Epoch: [20/20], Step: [601/625], Validation Acc: 77.14\n",
      "hyperparameter: (0.1, 0.8), Validation Acc: 77.68\n",
      "Epoch: [1/20], Step: [601/625], Validation Acc: 64.56\n",
      "Epoch: [2/20], Step: [601/625], Validation Acc: 72.38\n",
      "Epoch: [3/20], Step: [601/625], Validation Acc: 80.02\n",
      "Epoch: [4/20], Step: [601/625], Validation Acc: 72.82\n",
      "Epoch: [5/20], Step: [601/625], Validation Acc: 78.5\n",
      "Epoch: [6/20], Step: [601/625], Validation Acc: 82.32\n",
      "Epoch: [7/20], Step: [601/625], Validation Acc: 80.06\n",
      "Epoch: [8/20], Step: [601/625], Validation Acc: 77.16\n",
      "Epoch: [9/20], Step: [601/625], Validation Acc: 80.84\n",
      "Epoch: [10/20], Step: [601/625], Validation Acc: 82.92\n",
      "Epoch: [11/20], Step: [601/625], Validation Acc: 80.06\n",
      "Epoch: [12/20], Step: [601/625], Validation Acc: 82.26\n",
      "Epoch: [13/20], Step: [601/625], Validation Acc: 79.4\n",
      "Epoch: [14/20], Step: [601/625], Validation Acc: 79.62\n",
      "Epoch: [15/20], Step: [601/625], Validation Acc: 79.8\n",
      "Epoch: [16/20], Step: [601/625], Validation Acc: 77.88\n",
      "Epoch: [17/20], Step: [601/625], Validation Acc: 82.46\n",
      "Epoch: [18/20], Step: [601/625], Validation Acc: 80.24\n",
      "Epoch: [19/20], Step: [601/625], Validation Acc: 78.62\n",
      "Epoch: [20/20], Step: [601/625], Validation Acc: 78.28\n",
      "hyperparameter: (0.1, 1.2), Validation Acc: 81.92\n",
      "Epoch: [1/20], Step: [601/625], Validation Acc: 94.0\n",
      "Epoch: [2/20], Step: [601/625], Validation Acc: 78.5\n",
      "Epoch: [3/20], Step: [601/625], Validation Acc: 77.94\n",
      "Epoch: [4/20], Step: [601/625], Validation Acc: 84.18\n",
      "Epoch: [5/20], Step: [601/625], Validation Acc: 82.14\n",
      "Epoch: [6/20], Step: [601/625], Validation Acc: 82.12\n",
      "Epoch: [7/20], Step: [601/625], Validation Acc: 80.76\n",
      "Epoch: [8/20], Step: [601/625], Validation Acc: 77.88\n",
      "Epoch: [9/20], Step: [601/625], Validation Acc: 80.94\n",
      "Epoch: [10/20], Step: [601/625], Validation Acc: 80.5\n",
      "Epoch: [11/20], Step: [601/625], Validation Acc: 81.82\n",
      "Epoch: [12/20], Step: [601/625], Validation Acc: 82.3\n",
      "Epoch: [13/20], Step: [601/625], Validation Acc: 78.88\n",
      "Epoch: [14/20], Step: [601/625], Validation Acc: 82.2\n",
      "Epoch: [15/20], Step: [601/625], Validation Acc: 80.34\n",
      "Epoch: [16/20], Step: [601/625], Validation Acc: 80.52\n",
      "Epoch: [17/20], Step: [601/625], Validation Acc: 79.64\n",
      "Epoch: [18/20], Step: [601/625], Validation Acc: 80.42\n",
      "Epoch: [19/20], Step: [601/625], Validation Acc: 80.82\n",
      "Epoch: [20/20], Step: [601/625], Validation Acc: 81.92\n",
      "hyperparameter: (0.1, 1.5), Validation Acc: 78.56\n",
      "Epoch: [1/20], Step: [601/625], Validation Acc: 68.04\n",
      "Epoch: [2/20], Step: [601/625], Validation Acc: 75.22\n",
      "Epoch: [3/20], Step: [601/625], Validation Acc: 85.26\n",
      "Epoch: [4/20], Step: [601/625], Validation Acc: 83.76\n",
      "Epoch: [5/20], Step: [601/625], Validation Acc: 84.76\n",
      "Epoch: [6/20], Step: [601/625], Validation Acc: 86.2\n",
      "Epoch: [7/20], Step: [601/625], Validation Acc: 79.24\n",
      "Epoch: [8/20], Step: [601/625], Validation Acc: 82.3\n",
      "Epoch: [9/20], Step: [601/625], Validation Acc: 79.92\n",
      "Epoch: [10/20], Step: [601/625], Validation Acc: 74.42\n",
      "Epoch: [11/20], Step: [601/625], Validation Acc: 75.56\n",
      "Epoch: [12/20], Step: [601/625], Validation Acc: 80.22\n",
      "Epoch: [13/20], Step: [601/625], Validation Acc: 77.64\n",
      "Epoch: [14/20], Step: [601/625], Validation Acc: 81.76\n",
      "Epoch: [15/20], Step: [601/625], Validation Acc: 80.54\n",
      "Epoch: [16/20], Step: [601/625], Validation Acc: 82.66\n",
      "Epoch: [17/20], Step: [601/625], Validation Acc: 81.4\n",
      "Epoch: [18/20], Step: [601/625], Validation Acc: 79.44\n",
      "Epoch: [19/20], Step: [601/625], Validation Acc: 82.18\n",
      "Epoch: [20/20], Step: [601/625], Validation Acc: 82.06\n",
      "hyperparameter: (0.05, 0.5), Validation Acc: 80.98\n",
      "Epoch: [1/20], Step: [601/625], Validation Acc: 83.02\n",
      "Epoch: [2/20], Step: [601/625], Validation Acc: 82.82\n",
      "Epoch: [3/20], Step: [601/625], Validation Acc: 83.24\n",
      "Epoch: [4/20], Step: [601/625], Validation Acc: 82.4\n",
      "Epoch: [5/20], Step: [601/625], Validation Acc: 81.76\n",
      "Epoch: [6/20], Step: [601/625], Validation Acc: 79.94\n",
      "Epoch: [7/20], Step: [601/625], Validation Acc: 81.54\n",
      "Epoch: [8/20], Step: [601/625], Validation Acc: 80.38\n",
      "Epoch: [9/20], Step: [601/625], Validation Acc: 78.18\n",
      "Epoch: [10/20], Step: [601/625], Validation Acc: 79.96\n",
      "Epoch: [11/20], Step: [601/625], Validation Acc: 82.04\n",
      "Epoch: [12/20], Step: [601/625], Validation Acc: 82.18\n",
      "Epoch: [13/20], Step: [601/625], Validation Acc: 80.68\n",
      "Epoch: [14/20], Step: [601/625], Validation Acc: 83.14\n",
      "Epoch: [15/20], Step: [601/625], Validation Acc: 80.14\n",
      "Epoch: [16/20], Step: [601/625], Validation Acc: 80.7\n",
      "Epoch: [17/20], Step: [601/625], Validation Acc: 79.82\n",
      "Epoch: [18/20], Step: [601/625], Validation Acc: 78.96\n",
      "Epoch: [19/20], Step: [601/625], Validation Acc: 79.64\n",
      "Epoch: [20/20], Step: [601/625], Validation Acc: 80.54\n",
      "hyperparameter: (0.05, 0.8), Validation Acc: 81.16\n",
      "Epoch: [1/20], Step: [601/625], Validation Acc: 84.96\n",
      "Epoch: [2/20], Step: [601/625], Validation Acc: 78.92\n",
      "Epoch: [3/20], Step: [601/625], Validation Acc: 86.7\n",
      "Epoch: [4/20], Step: [601/625], Validation Acc: 79.6\n",
      "Epoch: [5/20], Step: [601/625], Validation Acc: 81.2\n",
      "Epoch: [6/20], Step: [601/625], Validation Acc: 81.84\n",
      "Epoch: [7/20], Step: [601/625], Validation Acc: 83.78\n",
      "Epoch: [8/20], Step: [601/625], Validation Acc: 83.98\n",
      "Epoch: [9/20], Step: [601/625], Validation Acc: 80.38\n",
      "Epoch: [10/20], Step: [601/625], Validation Acc: 82.42\n",
      "Epoch: [11/20], Step: [601/625], Validation Acc: 78.86\n",
      "Epoch: [12/20], Step: [601/625], Validation Acc: 84.1\n",
      "Epoch: [13/20], Step: [601/625], Validation Acc: 79.9\n",
      "Epoch: [14/20], Step: [601/625], Validation Acc: 82.0\n",
      "Epoch: [15/20], Step: [601/625], Validation Acc: 78.26\n",
      "Epoch: [16/20], Step: [601/625], Validation Acc: 81.26\n",
      "Epoch: [17/20], Step: [601/625], Validation Acc: 79.52\n",
      "Epoch: [18/20], Step: [601/625], Validation Acc: 79.08\n",
      "Epoch: [19/20], Step: [601/625], Validation Acc: 78.7\n",
      "Epoch: [20/20], Step: [601/625], Validation Acc: 82.24\n",
      "hyperparameter: (0.05, 1.2), Validation Acc: 80.74\n",
      "Epoch: [1/20], Step: [601/625], Validation Acc: 88.86\n",
      "Epoch: [2/20], Step: [601/625], Validation Acc: 74.78\n",
      "Epoch: [3/20], Step: [601/625], Validation Acc: 76.86\n",
      "Epoch: [4/20], Step: [601/625], Validation Acc: 82.2\n",
      "Epoch: [5/20], Step: [601/625], Validation Acc: 80.28\n"
     ]
    },
    {
     "name": "stdout",
     "output_type": "stream",
     "text": [
      "Epoch: [6/20], Step: [601/625], Validation Acc: 83.08\n",
      "Epoch: [7/20], Step: [601/625], Validation Acc: 81.16\n",
      "Epoch: [8/20], Step: [601/625], Validation Acc: 82.22\n",
      "Epoch: [9/20], Step: [601/625], Validation Acc: 80.96\n",
      "Epoch: [10/20], Step: [601/625], Validation Acc: 82.02\n",
      "Epoch: [11/20], Step: [601/625], Validation Acc: 80.86\n",
      "Epoch: [12/20], Step: [601/625], Validation Acc: 80.42\n",
      "Epoch: [13/20], Step: [601/625], Validation Acc: 80.04\n",
      "Epoch: [14/20], Step: [601/625], Validation Acc: 78.36\n",
      "Epoch: [15/20], Step: [601/625], Validation Acc: 80.92\n",
      "Epoch: [16/20], Step: [601/625], Validation Acc: 81.6\n",
      "Epoch: [17/20], Step: [601/625], Validation Acc: 82.02\n",
      "Epoch: [18/20], Step: [601/625], Validation Acc: 81.42\n",
      "Epoch: [19/20], Step: [601/625], Validation Acc: 81.64\n",
      "Epoch: [20/20], Step: [601/625], Validation Acc: 81.04\n",
      "hyperparameter: (0.05, 1.5), Validation Acc: 80.74\n",
      "Epoch: [1/20], Step: [601/625], Validation Acc: 74.88\n",
      "Epoch: [2/20], Step: [601/625], Validation Acc: 75.4\n",
      "Epoch: [3/20], Step: [601/625], Validation Acc: 79.54\n",
      "Epoch: [4/20], Step: [601/625], Validation Acc: 86.82\n",
      "Epoch: [5/20], Step: [601/625], Validation Acc: 81.22\n",
      "Epoch: [6/20], Step: [601/625], Validation Acc: 81.36\n",
      "Epoch: [7/20], Step: [601/625], Validation Acc: 85.06\n",
      "Epoch: [8/20], Step: [601/625], Validation Acc: 79.06\n",
      "Epoch: [9/20], Step: [601/625], Validation Acc: 80.74\n",
      "Epoch: [10/20], Step: [601/625], Validation Acc: 81.76\n",
      "Epoch: [11/20], Step: [601/625], Validation Acc: 82.24\n",
      "Epoch: [12/20], Step: [601/625], Validation Acc: 83.72\n",
      "Epoch: [13/20], Step: [601/625], Validation Acc: 82.94\n",
      "Epoch: [14/20], Step: [601/625], Validation Acc: 83.04\n",
      "Epoch: [15/20], Step: [601/625], Validation Acc: 83.22\n",
      "Epoch: [16/20], Step: [601/625], Validation Acc: 81.12\n",
      "Epoch: [17/20], Step: [601/625], Validation Acc: 78.86\n",
      "Epoch: [18/20], Step: [601/625], Validation Acc: 78.84\n",
      "Epoch: [19/20], Step: [601/625], Validation Acc: 81.18\n",
      "Epoch: [20/20], Step: [601/625], Validation Acc: 79.46\n",
      "hyperparameter: (0.02, 0.5), Validation Acc: 81.34\n",
      "Epoch: [1/20], Step: [601/625], Validation Acc: 68.34\n",
      "Epoch: [2/20], Step: [601/625], Validation Acc: 81.5\n",
      "Epoch: [3/20], Step: [601/625], Validation Acc: 82.24\n",
      "Epoch: [4/20], Step: [601/625], Validation Acc: 81.66\n",
      "Epoch: [5/20], Step: [601/625], Validation Acc: 79.48\n",
      "Epoch: [6/20], Step: [601/625], Validation Acc: 81.54\n",
      "Epoch: [7/20], Step: [601/625], Validation Acc: 79.6\n",
      "Epoch: [8/20], Step: [601/625], Validation Acc: 83.58\n",
      "Epoch: [9/20], Step: [601/625], Validation Acc: 82.04\n",
      "Epoch: [10/20], Step: [601/625], Validation Acc: 80.82\n",
      "Epoch: [11/20], Step: [601/625], Validation Acc: 81.46\n",
      "Epoch: [12/20], Step: [601/625], Validation Acc: 81.36\n",
      "Epoch: [13/20], Step: [601/625], Validation Acc: 80.36\n",
      "Epoch: [14/20], Step: [601/625], Validation Acc: 82.54\n",
      "Epoch: [15/20], Step: [601/625], Validation Acc: 79.96\n",
      "Epoch: [16/20], Step: [601/625], Validation Acc: 81.36\n",
      "Epoch: [17/20], Step: [601/625], Validation Acc: 83.64\n",
      "Epoch: [18/20], Step: [601/625], Validation Acc: 80.58\n",
      "Epoch: [19/20], Step: [601/625], Validation Acc: 81.2\n",
      "Epoch: [20/20], Step: [601/625], Validation Acc: 78.5\n",
      "hyperparameter: (0.02, 0.8), Validation Acc: 82.34\n",
      "Epoch: [1/20], Step: [601/625], Validation Acc: 73.32\n",
      "Epoch: [2/20], Step: [601/625], Validation Acc: 80.56\n",
      "Epoch: [3/20], Step: [601/625], Validation Acc: 86.4\n",
      "Epoch: [4/20], Step: [601/625], Validation Acc: 81.78\n",
      "Epoch: [5/20], Step: [601/625], Validation Acc: 81.36\n",
      "Epoch: [6/20], Step: [601/625], Validation Acc: 82.24\n",
      "Epoch: [7/20], Step: [601/625], Validation Acc: 83.44\n",
      "Epoch: [8/20], Step: [601/625], Validation Acc: 81.28\n",
      "Epoch: [9/20], Step: [601/625], Validation Acc: 83.02\n",
      "Epoch: [10/20], Step: [601/625], Validation Acc: 81.96\n",
      "Epoch: [11/20], Step: [601/625], Validation Acc: 80.7\n",
      "Epoch: [12/20], Step: [601/625], Validation Acc: 81.7\n",
      "Epoch: [13/20], Step: [601/625], Validation Acc: 81.26\n",
      "Epoch: [14/20], Step: [601/625], Validation Acc: 81.12\n",
      "Epoch: [15/20], Step: [601/625], Validation Acc: 81.24\n",
      "Epoch: [16/20], Step: [601/625], Validation Acc: 82.98\n",
      "Epoch: [17/20], Step: [601/625], Validation Acc: 82.44\n",
      "Epoch: [18/20], Step: [601/625], Validation Acc: 83.4\n",
      "Epoch: [19/20], Step: [601/625], Validation Acc: 81.14\n",
      "Epoch: [20/20], Step: [601/625], Validation Acc: 81.64\n",
      "hyperparameter: (0.02, 1.2), Validation Acc: 82.6\n",
      "Epoch: [1/20], Step: [601/625], Validation Acc: 73.14\n",
      "Epoch: [2/20], Step: [601/625], Validation Acc: 87.04\n",
      "Epoch: [3/20], Step: [601/625], Validation Acc: 76.74\n",
      "Epoch: [4/20], Step: [601/625], Validation Acc: 77.62\n",
      "Epoch: [5/20], Step: [601/625], Validation Acc: 78.98\n",
      "Epoch: [6/20], Step: [601/625], Validation Acc: 77.96\n",
      "Epoch: [7/20], Step: [601/625], Validation Acc: 80.72\n",
      "Epoch: [8/20], Step: [601/625], Validation Acc: 77.94\n",
      "Epoch: [9/20], Step: [601/625], Validation Acc: 81.62\n",
      "Epoch: [10/20], Step: [601/625], Validation Acc: 81.32\n",
      "Epoch: [11/20], Step: [601/625], Validation Acc: 83.04\n",
      "Epoch: [12/20], Step: [601/625], Validation Acc: 83.06\n",
      "Epoch: [13/20], Step: [601/625], Validation Acc: 81.28\n",
      "Epoch: [14/20], Step: [601/625], Validation Acc: 79.66\n",
      "Epoch: [15/20], Step: [601/625], Validation Acc: 82.04\n",
      "Epoch: [16/20], Step: [601/625], Validation Acc: 78.94\n",
      "Epoch: [17/20], Step: [601/625], Validation Acc: 80.34\n",
      "Epoch: [18/20], Step: [601/625], Validation Acc: 80.2\n",
      "Epoch: [19/20], Step: [601/625], Validation Acc: 82.24\n",
      "Epoch: [20/20], Step: [601/625], Validation Acc: 82.54\n",
      "hyperparameter: (0.02, 1.5), Validation Acc: 81.84\n"
     ]
    }
   ],
   "source": [
    "for lr0 in [0.1, 0.05, 0.02]:\n",
    "    for lrd in [0.5, 0.8, 1.2, 1.5]:\n",
    "        # Function for testing themodel\n",
    "        model = BagOfWords(len(id2token), emb_dim)\n",
    "        # Criterion and Optimizer\n",
    "        criterion = torch.nn.CrossEntropyLoss()  \n",
    "        optimizer = torch.optim.Adam(model.parameters(), lr=learning_rate, weight_decay=wd)\n",
    "        #optimizer = torch.optim.Adam(model.parameters(), lr=learning_rate)\n",
    "        losses = []\n",
    "        val_accs = []\n",
    "        for epoch in range(num_epochs):\n",
    "            adjust_learning_rate(optimizer, epoch, lr0, lrd)\n",
    "            loss_sum = 0\n",
    "            for i, (data, lengths, labels) in enumerate(train_loader):\n",
    "                model.train()\n",
    "                data_batch, length_batch, label_batch = data, lengths, labels\n",
    "                optimizer.zero_grad()\n",
    "                outputs = model(data_batch, length_batch)\n",
    "                loss = criterion(outputs, label_batch)\n",
    "                loss_sum += loss\n",
    "                loss.backward()\n",
    "                optimizer.step()\n",
    "                #validate every 100 iterations\n",
    "                if i > 0 and i % 600 == 0:\n",
    "                    # validate\n",
    "                    val_acc = test_model(val_loader, model)\n",
    "                    print('Epoch: [{}/{}], Step: [{}/{}], Validation Acc: {}'.format( \n",
    "                               epoch+1, num_epochs, i+1, len(train_loader), val_acc))\n",
    "            val_accs.append(val_acc)\n",
    "            losses.append(loss_sum)\n",
    "        val_acc = test_model(val_loader, model)\n",
    "        print('hyperparameter: {}, Validation Acc: {}'.format((lr0, lrd), val_acc))\n",
    "# plt.plot(losses)\n",
    "# plt.show()\n",
    "# plt.plot(val_accs)\n",
    "# plt.show()"
   ]
  },
  {
   "cell_type": "code",
   "execution_count": 23,
   "metadata": {
    "collapsed": true
   },
   "outputs": [],
   "source": [
    "#Hyperparameter for best model\n",
    "if_rp = 0 #whether to replace punctuations with space\n",
    "if_rb = 0 #whether to replace line break with space\n",
    "if_l = 1 #whether to lowercase the line\n",
    "if_rs = 0 #whether to remove stopwords\n",
    "max_vocab_size = 10000\n",
    "emb_dim = 200\n",
    "\n",
    "learning_rate = 0.02\n",
    "wd = 1e-5 #weight decay\n",
    "num_epochs = 20 # number epoch to train\n",
    "lr0 = 0.02\n",
    "lrd = 1.2\n",
    "mi = 1\n",
    "ma = 2"
   ]
  },
  {
   "cell_type": "code",
   "execution_count": 24,
   "metadata": {},
   "outputs": [
    {
     "name": "stdout",
     "output_type": "stream",
     "text": [
      "Epoch: [1/20], Step: [601/625], Validation Acc: 65.64\n",
      "Epoch: [2/20], Step: [601/625], Validation Acc: 74.68\n",
      "Epoch: [3/20], Step: [601/625], Validation Acc: 83.06\n",
      "Epoch: [4/20], Step: [601/625], Validation Acc: 78.7\n",
      "Epoch: [5/20], Step: [601/625], Validation Acc: 79.46\n",
      "Epoch: [6/20], Step: [601/625], Validation Acc: 81.68\n",
      "Epoch: [7/20], Step: [601/625], Validation Acc: 81.26\n",
      "Epoch: [8/20], Step: [601/625], Validation Acc: 78.36\n",
      "Epoch: [9/20], Step: [601/625], Validation Acc: 80.28\n",
      "Epoch: [10/20], Step: [601/625], Validation Acc: 81.1\n",
      "Epoch: [11/20], Step: [601/625], Validation Acc: 82.12\n",
      "Epoch: [12/20], Step: [601/625], Validation Acc: 80.22\n",
      "Epoch: [13/20], Step: [601/625], Validation Acc: 81.98\n",
      "Epoch: [14/20], Step: [601/625], Validation Acc: 83.26\n",
      "Epoch: [15/20], Step: [601/625], Validation Acc: 81.1\n",
      "Epoch: [16/20], Step: [601/625], Validation Acc: 82.0\n",
      "Epoch: [17/20], Step: [601/625], Validation Acc: 81.66\n",
      "Epoch: [18/20], Step: [601/625], Validation Acc: 81.04\n",
      "Epoch: [19/20], Step: [601/625], Validation Acc: 81.14\n",
      "Epoch: [20/20], Step: [601/625], Validation Acc: 82.2\n",
      "hyperparameter: (0.02, 1.2), Validation Acc: 82.72\n"
     ]
    }
   ],
   "source": [
    "model = BagOfWords(len(id2token), emb_dim)\n",
    "# Criterion and Optimizer\n",
    "criterion = torch.nn.CrossEntropyLoss()  \n",
    "optimizer = torch.optim.Adam(model.parameters(), lr=learning_rate, weight_decay=wd)\n",
    "#optimizer = torch.optim.Adam(model.parameters(), lr=learning_rate)\n",
    "losses = []\n",
    "val_accs = []\n",
    "for epoch in range(num_epochs):\n",
    "    adjust_learning_rate(optimizer, epoch, lr0, lrd)\n",
    "    loss_sum = 0\n",
    "    for i, (data, lengths, labels) in enumerate(train_loader):\n",
    "        model.train()\n",
    "        data_batch, length_batch, label_batch = data, lengths, labels\n",
    "        optimizer.zero_grad()\n",
    "        outputs = model(data_batch, length_batch)\n",
    "        loss = criterion(outputs, label_batch)\n",
    "        loss_sum += loss\n",
    "        loss.backward()\n",
    "        optimizer.step()\n",
    "        #validate every 100 iterations\n",
    "        if i > 0 and i % 600 == 0:\n",
    "            # validate\n",
    "            val_acc = test_model(val_loader, model)\n",
    "            print('Epoch: [{}/{}], Step: [{}/{}], Validation Acc: {}'.format( \n",
    "                       epoch+1, num_epochs, i+1, len(train_loader), val_acc))\n",
    "    val_accs.append(val_acc)\n",
    "    losses.append(loss_sum)\n",
    "val_acc = test_model(val_loader, model)\n",
    "print('hyperparameter: {}, Validation Acc: {}'.format((lr0, lrd), val_acc))\n"
   ]
  },
  {
   "cell_type": "code",
   "execution_count": 25,
   "metadata": {},
   "outputs": [
    {
     "data": {
      "image/png": "[encoded data removed]",
      "text/plain": [
       "<matplotlib.figure.Figure at 0x1a536a60f0>"
      ]
     },
     "metadata": {},
     "output_type": "display_data"
    },
    {
     "data": {
      "image/png": "[encoded data removed]",
      "text/plain": [
       "<matplotlib.figure.Figure at 0x1a536a65c0>"
      ]
     },
     "metadata": {},
     "output_type": "display_data"
    }
   ],
   "source": [
    "plt.plot(losses)\n",
    "plt.xlabel('epoch')\n",
    "plt.ylabel('loss')\n",
    "plt.title('training loss vs epoch')\n",
    "plt.show()\n",
    "plt.plot(val_accs)\n",
    "plt.xlabel('epoch')\n",
    "plt.ylabel('accuracy')\n",
    "plt.title('validation accuracy vs epoch')\n",
    "plt.show()"
   ]
  },
  {
   "cell_type": "code",
   "execution_count": 26,
   "metadata": {},
   "outputs": [
    {
     "name": "stdout",
     "output_type": "stream",
     "text": [
      "After training for 20 epochs\n",
      "Val Acc 82.72\n",
      "Test Acc 85.396\n"
     ]
    }
   ],
   "source": [
    "print (\"After training for {} epochs\".format(num_epochs))\n",
    "print (\"Val Acc {}\".format(test_model(val_loader, model)))\n",
    "print (\"Test Acc {}\".format(test_model(test_loader, model)))"
   ]
  },
  {
   "cell_type": "code",
   "execution_count": 52,
   "metadata": {},
   "outputs": [],
   "source": [
    "\n",
    "correct = 0\n",
    "total = 0\n",
    "model.eval()\n",
    "count_right, count_wrong = 0,0\n",
    "rights = []\n",
    "wrongs = []\n",
    "for data, lengths, labels in val_loader:\n",
    "    data_batch, length_batch, label_batch = data, lengths, labels\n",
    "    outputs = F.softmax(model(data_batch, length_batch), dim=1)\n",
    "    predicted = outputs.max(1, keepdim=True)[1]\n",
    "    i = 0\n",
    "    while count_right < 3 or count_wrong<3:\n",
    "        pred = predicted[i]\n",
    "        true = labels[i]\n",
    "        if pred == true:\n",
    "            if count_right<3:\n",
    "                rights.append(data_batch[i,:].data.numpy())\n",
    "                count_right += 1\n",
    "        else:\n",
    "            wrongs.append(data_batch[i,:].data.numpy())\n",
    "            count_wrong += 1\n",
    "        i += 1\n",
    "    break\n"
   ]
  },
  {
   "cell_type": "code",
   "execution_count": 57,
   "metadata": {},
   "outputs": [
    {
     "data": {
      "text/plain": [
       "\"let's be honest shall <unk> al gore no more truly cares about the environment than most folks care about <unk> foot <unk> it's a <unk> make no mistake, al gore is a <unk> three years ago he was <unk> in his home state doing 70 <unk> in a <unk> <unk> zone driving not a <unk> a <unk> or even a <unk> <unk> but a lincoln <unk> <unk> it if you <unk> or how about the fact that mr. gore & his hollywood buddies continue to use a private <unk> <unk> to attend the <unk> of <unk> <unk> <unk> so much for <unk> <unk> <unk> anyway, it takes a mere minute to <unk> look at <unk> <unk> <unk> & discover the main fundamental <unk> while the film <unk> out many seemingly impressive scientists to tell the audience the effects of supposed <unk> <unk> there is not one scientist to tell us the supposed cause of it. for example: i can take a hundred folks out to a parking lot & they can point out an <unk> which is not running right. but can they tell you with any degree of <unk> why? generally <unk> a second <unk> just how accurate were the weather <unk> 100 years ago (the toilet wasn't even invented <unk> what did they have, a june bug in a match <unk> hell, even <unk> years <unk> therefore, how do we know with any degree of <unk> that the planet is <unk> <unk> when the records of <unk> are highly questionable at <unk> or that man is the sole cause of it? the answer is we don't & science is never a <unk> thirty years ago, time magazine did a cover <unk> a <unk> ice <unk> the truth is that any <unk> grade science teacher well <unk> in earth science will tell you that <unk> <unk> <unk> activity & el <unk> have more to do with our <unk> changes in <unk> conditions than supposed <unk> <unk> finally, what al gore fails to <unk> address <unk> even if america decides to follow the global <unk> according to al & <unk> everything he <unk> how are we going to get the rest of the world to follow suit when we can't even get them to agree on something so obvious as <unk> <unk> it's <unk> thinking, mr. gore & you being a former <unk> of the usa know it! if the folks who produced <unk> <unk> <unk> were really honest, they would have titled their film <unk> gore wants <unk> but what i'd really like is for someone to ask the former <unk> <unk> why were two of the <unk> biggest <unk> (aka china & <unk> <unk> from <unk> by the <unk> <unk> anyway, i hear the producers of <unk> are working on their next film entitled <unk> <unk> & <unk> our <unk> <unk> <pad> <pad> <pad> <pad> <pad> <pad> <pad> <pad> <pad> <pad> <pad> <pad> <pad> <pad> <pad> <pad> <pad> <pad> <pad> <pad> <pad> <pad> <pad> <pad> <pad> <pad> <pad> <pad> <pad> <pad> <pad> <pad> <pad> <pad> <pad> <pad> <pad> <pad> <pad> <pad> <pad> <pad> <pad> <pad> <pad> <pad> <pad> <pad> <pad> <pad> <pad> <pad> <pad> <pad> <pad> <pad> <pad> <pad> <pad> <pad> <pad> <pad> <pad> <pad> <pad> <pad> <pad> <pad> <pad> <pad> <pad> <pad> <pad> <pad> <pad> <pad> <pad> <pad> <pad> <pad> <pad> <pad> <pad> <pad> <pad> <pad> <pad> <pad> <pad> <pad> <pad> <pad> <pad> <pad> <pad> <pad> <pad> <pad> <pad> <pad> <pad> <pad> <pad> <pad> <pad> <pad> <pad> <pad> <pad> <pad> <pad> <pad> <pad> <pad> <pad> <pad> <pad> <pad> <pad> <pad> <pad> <pad> <pad> <pad> <pad> <pad> <pad> <pad> <pad> <pad> <pad> <pad> <pad> <pad> <pad> <pad> <pad> <pad> <pad> <pad> <pad> <pad> <pad> <pad> <pad> <pad> <pad> <pad> <pad> <pad> <pad> <pad> <pad> <pad> <pad> <pad> <pad> <pad> <pad> <pad> <pad> <pad> <pad> <pad> <pad> <pad> <pad> <pad> <pad> <pad> <pad> <pad> <pad> <pad> <pad> <pad> <pad> <pad> <pad> <pad> <pad> <pad> <pad> <pad> <pad> <pad> <pad> <pad> <pad> <pad> <pad> <pad> <pad> <pad> <pad> <pad> <pad> <pad> <pad> <pad> <pad> <pad> <pad> <pad> <pad> <pad> <pad> <pad> <pad> <pad> <pad> <pad> <pad> <pad> <pad> <pad> <pad> <pad> <pad> <pad> <pad> <pad> <pad> <pad> <pad> <pad> <pad> <pad> <pad> <pad> <pad> <pad> <pad> <pad> <pad> <pad> <pad> <pad> <pad> <pad> <pad> <pad> <pad> <pad> <pad> <pad> <pad> <pad> <pad> <pad> <pad> <pad> <pad> <pad> <pad> <pad> <pad> <pad> <pad> <pad> <pad> <pad> <pad> <pad> <pad> <pad> <pad> <pad> <pad> <pad> <pad> <pad> <pad> <pad> <pad> <pad> <pad> <pad> <pad> <pad> <pad> <pad> <pad> <pad> <pad> <pad> <pad> <pad> <pad> <pad> <pad> <pad> <pad> <pad> <pad> <pad> <pad> <pad> <pad> <pad> <pad> <pad> <pad> <pad> <pad> <pad> <pad> <pad> <pad> <pad> <pad> <pad> <pad> <pad> <pad> <pad> <pad> <pad> <pad> <pad> <pad> <pad> <pad> <pad> <pad> <pad> <pad> this movie is a good example of the extreme lack of good writers and directors in hollywood. the fact that people were paid to make this piece of junk shows that there is a lack of original ideas and talent in the entertainment business. the idea that audiences paid to see this movie (and like an idiot i rented the film) is <unk> <unk> /><br <unk> teacher <unk> years <unk> kills <unk> family because he wants her. for no reason he kills the mother, father and brother. from the first five minutes you see the bad acting and direction. years later, obsessed teacher breaks out of prison. <unk> bad <unk> one in the town he <unk> knows until the last minute. obsessed teacher somehow becomes like a navy <unk> and can sneak around, <unk> out people and with a knife is super killer. <unk> now obsessed teacher kills hotel maid for no reason, <unk> <unk> for the fun of it, and starts to hunt down the <unk> friends. now there is the perfect way to get the girl to love you. obsessed teacher <unk> out of <unk> it is stupid, ever cop would know his <unk> he walks right by them. now he kills two cops outside <unk> house and somehow <unk> into her bedroom and kills her <unk> /><br />there is not one single positive thing about this piece of garbage. if any other profession put out work of this low quality, they would be <unk> yet these idiots are making hundreds of thousands of dollars for writing and directing this <unk> <pad> <pad> <pad> <pad> <pad> <pad> <pad> <pad> <pad> <pad> <pad> <pad> <pad> <pad> <pad> <pad> <pad> <pad> <pad> <pad> <pad> <pad> <pad> <pad> <pad> <pad> <pad> <pad> <pad> <pad> <pad> <pad> <pad> <pad> <pad> <pad> <pad> <pad> <pad> <pad> <pad> <pad> <pad> <pad> <pad> <pad> <pad> <pad> <pad> <pad> <pad> <pad> <pad> <pad> <pad> <pad> <pad> <pad> <pad> <pad> <pad> <pad> <pad> <pad> <pad> <pad> <pad> <pad> <pad> <pad> <pad> <pad> <pad> <pad> <pad> <pad> <pad> <pad> <pad> <pad> <pad> <pad> <pad> <pad> <pad> <pad> <pad> <pad> <pad> <pad> <pad> <pad> <pad> <pad> <pad> <pad> <pad> <pad> <pad> <pad> <pad> <pad> <pad> <pad> <pad> <pad> <pad> <pad> <pad> <pad> <pad> <pad> <pad> <pad> <pad> <pad> <pad> <pad> <pad> <pad> <pad> <pad> <pad> <pad> <pad> <pad> <pad> <pad> <pad> <pad> <pad> <pad> <pad> <pad> <pad> <pad> <pad> <pad> <pad> <pad> <pad> <pad> <pad> <pad> <pad> <pad> <pad> <pad> <pad> <pad> <pad> <pad> <pad> <pad> <pad> <pad> <pad> <pad> <pad> <pad> <pad> <pad> <pad> <pad> <pad> <pad> <pad> <pad> <pad> <pad> <pad> <pad> <pad> <pad> <pad> <pad> <pad> <pad> <pad> <pad> <pad> <pad> <pad> <pad> <pad> <pad> <pad> <pad> <pad> <pad> <pad> <pad> <pad> <pad> <pad> <pad> <pad> <pad> <pad> <pad> <pad> <pad> <pad> <pad> <pad> <pad> <pad> <pad> <pad> <pad> <pad> <pad> <pad> <pad> <pad> <pad> <pad> <pad> <pad> <pad> <pad> <pad> <pad> <pad> <pad> <pad> <pad> <pad> <pad> <pad> <pad> <pad> <pad> <pad> <pad> <pad> <pad> <pad> <pad> <pad> <pad> <pad> <pad> <pad> <pad> <pad> <pad> <pad> <pad> <pad> <pad> <pad> <pad> <pad> <pad> <pad> <pad> <pad> <pad> <pad> <pad> <pad> <pad> <pad> <pad> <pad> <pad> <pad> <pad> <pad> <pad> <pad> <pad> <pad> <pad> <pad> <pad> <pad> <pad> <pad> <pad> <pad> <pad> <pad> <pad> <pad> <pad> <pad> <pad> <pad> <pad> <pad> <pad> <pad> <pad> <pad> <pad> <pad> <pad> <pad> <pad> <pad> <pad> <pad> <pad> <pad> <pad> <pad> <pad> <pad> <pad> <pad> <pad> <pad> <pad> <pad> <pad> <pad> <pad> <pad> <pad> <pad> <pad> <pad> <pad> <pad> <pad> <pad> <pad> <pad> <pad> <pad> <pad> <pad> <pad> <pad> <pad> <pad> <pad> <pad> <pad> <pad> <pad> <pad> <pad> <pad> <pad> <pad> <pad> <pad> <pad> <pad> <pad> <pad> <pad> <pad> <pad> <pad> <pad> <pad> <pad> <pad> <pad> <pad> <pad> <pad> <pad> <pad> <pad> <pad> <pad> <pad> <pad> <pad> <pad> <pad> <pad> <pad> <pad> <pad> <pad> <pad> <pad> <pad> <pad> <pad> <pad> <pad> <pad> <pad> <pad> <pad> <pad> <pad> <pad> <pad> <pad> <pad> <pad> <pad> <pad> <pad> <pad> <pad> <pad> <pad> <pad> <pad> <pad> <pad> <pad> <pad> <pad> <pad> <pad> <pad> <pad> <pad> <pad> <pad> <pad> <pad> <pad> <pad> <pad> <pad> <pad> <pad> <pad> <pad> <pad> <pad> <pad> <pad> <pad> <pad> <pad> <pad> <pad> <pad> <pad> <pad> <pad> <pad> <pad> <pad> <pad> <pad> <pad> <pad> <pad> <pad> <pad> <pad> <pad> <pad> <pad> <pad> <pad> <pad> <pad> <pad> <pad> <pad> <pad> <pad> <pad> <pad> <pad> <pad> <pad> <pad> <pad> <pad> <pad> <pad> <pad> <pad> <pad> <pad> <pad> <pad> <pad> <pad> <pad> <pad> <pad> <pad> <pad> <pad> <pad> <pad> <pad> <pad> <pad> <pad> <pad> <pad> <pad> <pad> <pad> <pad> <pad> <pad> <pad> <pad> <pad> <pad> <pad> <pad> <pad> <pad> <pad> <pad> <pad> <pad> <pad> <pad> <pad> <pad> <pad> <pad> <pad> <pad> <pad> <pad> <pad> <pad> <pad> <pad> <pad> <pad> <pad> <pad> <pad> <pad> <pad> looking through the other comments, i'm amazed that there aren't any <unk> to potential viewers of what they have to look forward to when renting this garbage. first off, i rented this thing with the understanding that it was a <unk> rendered indiana jones <unk> what i got was one of the most offensive movies i can remember trying to sit through, made all the more shocking by the movie's <unk> high production <unk> /><br />i don't think this is a <unk> but if it is, be <unk> /><br />if your idea of entertainment is watching <unk> getting raped from behind by <unk> <unk> <unk> while she is staring into the dead eyes of her significant other's severed head, by all means, rent this flick. if not, i'd advise you to look elsewhere for <unk> /><br <unk> to think of it, that scene so <unk> sums up the movie that there's nothing else i really need to say about it.\\n <pad> <pad> <pad> <pad> <pad> <pad> <pad> <pad> <pad> <pad> <pad> <pad> <pad> <pad> <pad> <pad> <pad> <pad> <pad> <pad> <pad> <pad> <pad> <pad> <pad> <pad> <pad> <pad> <pad> <pad> <pad> <pad> <pad> <pad> <pad> <pad> <pad> <pad> <pad> <pad> <pad> <pad> <pad> <pad> <pad> <pad> <pad> <pad> <pad> <pad> <pad> <pad> <pad> <pad> <pad> <pad> <pad> <pad> <pad> <pad> <pad> <pad> <pad> <pad> <pad> <pad> <pad> <pad> <pad> <pad> <pad> <pad> <pad> <pad> <pad> <pad> <pad> <pad> <pad> <pad> <pad> <pad> <pad> <pad> <pad> <pad> <pad> <pad> <pad> <pad> <pad> <pad> <pad> <pad> <pad> <pad> <pad> <pad> <pad> <pad> <pad> <pad> <pad> <pad> <pad> <pad> <pad> <pad> <pad> <pad> <pad> <pad> <pad> <pad> <pad> <pad> <pad> <pad> <pad> <pad> <pad> <pad> <pad> <pad> <pad> <pad> <pad> <pad> <pad> <pad> <pad> <pad> <pad> <pad> <pad> <pad> <pad> <pad> <pad> <pad> <pad> <pad> <pad> <pad> <pad> <pad> <pad> <pad> <pad> <pad> <pad> <pad> <pad> <pad> <pad> <pad> <pad> <pad> <pad> <pad> <pad> <pad> <pad> <pad> <pad> <pad> <pad> <pad> <pad> <pad> <pad> <pad> <pad> <pad> <pad> <pad> <pad> <pad> <pad> <pad> <pad> <pad> <pad> <pad> <pad> <pad> <pad> <pad> <pad> <pad> <pad> <pad> <pad> <pad> <pad> <pad> <pad> <pad> <pad> <pad> <pad> <pad> <pad> <pad> <pad> <pad> <pad> <pad> <pad> <pad> <pad> <pad> <pad> <pad> <pad> <pad> <pad> <pad> <pad> <pad> <pad> <pad> <pad> <pad> <pad> <pad> <pad> <pad> <pad> <pad> <pad> <pad> <pad> <pad> <pad> <pad> <pad> <pad> <pad> <pad> <pad> <pad> <pad> <pad> <pad> <pad> <pad> <pad> <pad> <pad> <pad> <pad> <pad> <pad> <pad> <pad> <pad> <pad> <pad> <pad> <pad> <pad> <pad> <pad> <pad> <pad> <pad> <pad> <pad> <pad> <pad> <pad> <pad> <pad> <pad> <pad> <pad> <pad> <pad> <pad> <pad> <pad> <pad> <pad> <pad> <pad> <pad> <pad> <pad> <pad> <pad> <pad> <pad> <pad> <pad> <pad> <pad> <pad> <pad> <pad> <pad> <pad> <pad> <pad> <pad> <pad> <pad> <pad> <pad> <pad> <pad> <pad> <pad> <pad> <pad> <pad> <pad> <pad> <pad> <pad> <pad> <pad> <pad> <pad> <pad> <pad> <pad> <pad> <pad> <pad> <pad> <pad> <pad> <pad> <pad> <pad> <pad> <pad> <pad> <pad> <pad> <pad> <pad> <pad> <pad> <pad> <pad> <pad> <pad> <pad> <pad> <pad> <pad> <pad> <pad> <pad> <pad> <pad> <pad> <pad> <pad> <pad> <pad> <pad> <pad> <pad> <pad> <pad> <pad> <pad> <pad> <pad> <pad> <pad> <pad> <pad> <pad> <pad> <pad> <pad> <pad> <pad> <pad> <pad> <pad> <pad> <pad> <pad> <pad> <pad> <pad> <pad> <pad> <pad> <pad> <pad> <pad> <pad> <pad> <pad> <pad> <pad> <pad> <pad> <pad> <pad> <pad> <pad> <pad> <pad> <pad> <pad> <pad> <pad> <pad> <pad> <pad> <pad> <pad> <pad> <pad> <pad> <pad> <pad> <pad> <pad> <pad> <pad> <pad> <pad> <pad> <pad> <pad> <pad> <pad> <pad> <pad> <pad> <pad> <pad> <pad> <pad> <pad> <pad> <pad> <pad> <pad> <pad> <pad> <pad> <pad> <pad> <pad> <pad> <pad> <pad> <pad> <pad> <pad> <pad> <pad> <pad> <pad> <pad> <pad> <pad> <pad> <pad> <pad> <pad> <pad> <pad> <pad> <pad> <pad> <pad> <pad> <pad> <pad> <pad> <pad> <pad> <pad> <pad> <pad> <pad> <pad> <pad> <pad> <pad> <pad> <pad> <pad> <pad> <pad> <pad> <pad> <pad> <pad> <pad> <pad> <pad> <pad> <pad> <pad> <pad> <pad> <pad> <pad> <pad> <pad> <pad> <pad> <pad> <pad> <pad> <pad> <pad> <pad> <pad> <pad> <pad> <pad> <pad> <pad> <pad> <pad> <pad> <pad> <pad> <pad> <pad> <pad> <pad> <pad> <pad> <pad> <pad> <pad> <pad> <pad> <pad> <pad> <pad> <pad> <pad> <pad> <pad> <pad> <pad> <pad> <pad> <pad> <pad> <pad> <pad> <pad> <pad> <pad> <pad> <pad> <pad> <pad> <pad> <pad> <pad> <pad> <pad> <pad> <pad> <pad> <pad> <pad> <pad> <pad> <pad> <pad> <pad> <pad> <pad> <pad> <pad> <pad> <pad> <pad> <pad> <pad> <pad> <pad> <pad> <pad> <pad> <pad> <pad> <pad> <pad> <pad> <pad> <pad> <pad> <pad> <pad> <pad> <pad> <pad> <pad> <pad> <pad> <pad> <pad> <pad> <pad> <pad> <pad> <pad> <pad> <pad> <pad> <pad> <pad> <pad> <pad> <pad> <pad> <pad> <pad> <pad> <pad> <pad> <pad> <pad> <pad> <pad> <pad> <pad> <pad> <pad> <pad> <pad> <pad>\""
      ]
     },
     "execution_count": 57,
     "metadata": {},
     "output_type": "execute_result"
    }
   ],
   "source": [
    "output = []\n",
    "for ele in rights:\n",
    "        for index in ele:\n",
    "            output.append(id2token[index])\n",
    "(' ').join(output)"
   ]
  },
  {
   "cell_type": "code",
   "execution_count": 58,
   "metadata": {},
   "outputs": [
    {
     "data": {
      "text/plain": [
       "\"after having watched <unk> two or three dozen times and loving every second of it, i finally had a chance to see it's sequel life in <unk> i was truly <unk> as it did not nearly stand up to the high standards of the first. 90 minutes of people with <unk> on their head is not my idea of a good movie. the philip glass score for this one had neither the beauty nor the <unk> strength of the first. compared with <unk> this movie seemed slow and pointless. a <unk> down version of <unk> which is the same idea but done better. i truly hope the third movie in this series will not follow the example of this <unk> <pad> <pad> <pad> <pad> <pad> <pad> <pad> <pad> <pad> <pad> <pad> <pad> <pad> <pad> <pad> <pad> <pad> <pad> <pad> <pad> <pad> <pad> <pad> <pad> <pad> <pad> <pad> <pad> <pad> <pad> <pad> <pad> <pad> <pad> <pad> <pad> <pad> <pad> <pad> <pad> <pad> <pad> <pad> <pad> <pad> <pad> <pad> <pad> <pad> <pad> <pad> <pad> <pad> <pad> <pad> <pad> <pad> <pad> <pad> <pad> <pad> <pad> <pad> <pad> <pad> <pad> <pad> <pad> <pad> <pad> <pad> <pad> <pad> <pad> <pad> <pad> <pad> <pad> <pad> <pad> <pad> <pad> <pad> <pad> <pad> <pad> <pad> <pad> <pad> <pad> <pad> <pad> <pad> <pad> <pad> <pad> <pad> <pad> <pad> <pad> <pad> <pad> <pad> <pad> <pad> <pad> <pad> <pad> <pad> <pad> <pad> <pad> <pad> <pad> <pad> <pad> <pad> <pad> <pad> <pad> <pad> <pad> <pad> <pad> <pad> <pad> <pad> <pad> <pad> <pad> <pad> <pad> <pad> <pad> <pad> <pad> <pad> <pad> <pad> <pad> <pad> <pad> <pad> <pad> <pad> <pad> <pad> <pad> <pad> <pad> <pad> <pad> <pad> <pad> <pad> <pad> <pad> <pad> <pad> <pad> <pad> <pad> <pad> <pad> <pad> <pad> <pad> <pad> <pad> <pad> <pad> <pad> <pad> <pad> <pad> <pad> <pad> <pad> <pad> <pad> <pad> <pad> <pad> <pad> <pad> <pad> <pad> <pad> <pad> <pad> <pad> <pad> <pad> <pad> <pad> <pad> <pad> <pad> <pad> <pad> <pad> <pad> <pad> <pad> <pad> <pad> <pad> <pad> <pad> <pad> <pad> <pad> <pad> <pad> <pad> <pad> <pad> <pad> <pad> <pad> <pad> <pad> <pad> <pad> <pad> <pad> <pad> <pad> <pad> <pad> <pad> <pad> <pad> <pad> <pad> <pad> <pad> <pad> <pad> <pad> <pad> <pad> <pad> <pad> <pad> <pad> <pad> <pad> <pad> <pad> <pad> <pad> <pad> <pad> <pad> <pad> <pad> <pad> <pad> <pad> <pad> <pad> <pad> <pad> <pad> <pad> <pad> <pad> <pad> <pad> <pad> <pad> <pad> <pad> <pad> <pad> <pad> <pad> <pad> <pad> <pad> <pad> <pad> <pad> <pad> <pad> <pad> <pad> <pad> <pad> <pad> <pad> <pad> <pad> <pad> <pad> <pad> <pad> <pad> <pad> <pad> <pad> <pad> <pad> <pad> <pad> <pad> <pad> <pad> <pad> <pad> <pad> <pad> <pad> <pad> <pad> <pad> <pad> <pad> <pad> <pad> <pad> <pad> <pad> <pad> <pad> <pad> <pad> <pad> <pad> <pad> <pad> <pad> <pad> <pad> <pad> <pad> <pad> <pad> <pad> <pad> <pad> <pad> <pad> <pad> <pad> <pad> <pad> <pad> <pad> <pad> <pad> <pad> <pad> <pad> <pad> <pad> <pad> <pad> <pad> <pad> <pad> <pad> <pad> <pad> <pad> <pad> <pad> <pad> <pad> <pad> <pad> <pad> <pad> <pad> <pad> <pad> <pad> <pad> <pad> <pad> <pad> <pad> <pad> <pad> <pad> <pad> <pad> <pad> <pad> <pad> <pad> <pad> <pad> <pad> <pad> <pad> <pad> <pad> <pad> <pad> <pad> <pad> <pad> <pad> <pad> <pad> <pad> <pad> <pad> <pad> <pad> <pad> <pad> <pad> <pad> <pad> <pad> <pad> <pad> <pad> <pad> <pad> <pad> <pad> <pad> <pad> <pad> <pad> <pad> <pad> <pad> <pad> <pad> <pad> <pad> <pad> <pad> <pad> <pad> <pad> <pad> <pad> <pad> <pad> <pad> <pad> <pad> <pad> <pad> <pad> <pad> <pad> <pad> <pad> <pad> <pad> <pad> <pad> <pad> <pad> <pad> <pad> <pad> <pad> <pad> <pad> <pad> <pad> <pad> <pad> <pad> <pad> <pad> <pad> <pad> <pad> <pad> <pad> <pad> <pad> <pad> <pad> <pad> <pad> <pad> <pad> <pad> <pad> <pad> <pad> <pad> <pad> <pad> <pad> <pad> <pad> <pad> <pad> <pad> <pad> <pad> <pad> <pad> <pad> <pad> <pad> <pad> <pad> <pad> <pad> <pad> <pad> <pad> <pad> <pad> <pad> <pad> <pad> <pad> <pad> <pad> <pad> <pad> <pad> <pad> <pad> <pad> <pad> <pad> <pad> <pad> <pad> <pad> <pad> <pad> <pad> <pad> <pad> <pad> <pad> <pad> <pad> <pad> <pad> <pad> <pad> <pad> <pad> <pad> <pad> <pad> <pad> <pad> <pad> <pad> <pad> <pad> <pad> <pad> <pad> <pad> <pad> <pad> <pad> <pad> <pad> <pad> <pad> <pad> <pad> <pad> <pad> <pad> <pad> <pad> <pad> <pad> <pad> <pad> <pad> <pad> <pad> <pad> <pad> <pad> <pad> <pad> <pad> <pad> <pad> <pad> <pad> <pad> <pad> <pad> <pad> <pad> <pad> <pad> <pad> <pad> <pad> <pad> <pad> <pad> <pad> <pad> <pad> <pad> <pad> <pad> <pad> <pad> <pad> <pad> <pad> <pad> <pad> <pad> <pad> <pad> <pad> <pad> <pad> <pad> <pad> <pad> <pad> <pad> <pad> <pad> <pad> <pad> <pad> <pad> <pad> <pad> <pad> <pad> <pad> <pad> <pad> <pad> <pad> <pad> <pad> <pad> <pad> <pad> <pad> <pad> <pad> <pad> <pad> <pad> <pad> <pad> <pad> <pad> <pad> <pad> <pad> <pad> <pad> <pad> <pad> <pad> <pad> <pad> <pad> <pad> <pad> <pad> <pad> <pad> <pad> <pad> <pad> <pad> i saw this feature as part of the asian american film festival in new york and was <unk> by the <unk> <unk> child <unk> that i <unk> the story line is hidden beneath way too many graphic sex scenes - and, not one is in the least bit erotic - sick is the more the feeling. the director seemed to be going for shock value rather the exploring the various levels of why these characters are like this. see it if you can stomach it - i still have <unk> <pad> <pad> <pad> <pad> <pad> <pad> <pad> <pad> <pad> <pad> <pad> <pad> <pad> <pad> <pad> <pad> <pad> <pad> <pad> <pad> <pad> <pad> <pad> <pad> <pad> <pad> <pad> <pad> <pad> <pad> <pad> <pad> <pad> <pad> <pad> <pad> <pad> <pad> <pad> <pad> <pad> <pad> <pad> <pad> <pad> <pad> <pad> <pad> <pad> <pad> <pad> <pad> <pad> <pad> <pad> <pad> <pad> <pad> <pad> <pad> <pad> <pad> <pad> <pad> <pad> <pad> <pad> <pad> <pad> <pad> <pad> <pad> <pad> <pad> <pad> <pad> <pad> <pad> <pad> <pad> <pad> <pad> <pad> <pad> <pad> <pad> <pad> <pad> <pad> <pad> <pad> <pad> <pad> <pad> <pad> <pad> <pad> <pad> <pad> <pad> <pad> <pad> <pad> <pad> <pad> <pad> <pad> <pad> <pad> <pad> <pad> <pad> <pad> <pad> <pad> <pad> <pad> <pad> <pad> <pad> <pad> <pad> <pad> <pad> <pad> <pad> <pad> <pad> <pad> <pad> <pad> <pad> <pad> <pad> <pad> <pad> <pad> <pad> <pad> <pad> <pad> <pad> <pad> <pad> <pad> <pad> <pad> <pad> <pad> <pad> <pad> <pad> <pad> <pad> <pad> <pad> <pad> <pad> <pad> <pad> <pad> <pad> <pad> <pad> <pad> <pad> <pad> <pad> <pad> <pad> <pad> <pad> <pad> <pad> <pad> <pad> <pad> <pad> <pad> <pad> <pad> <pad> <pad> <pad> <pad> <pad> <pad> <pad> <pad> <pad> <pad> <pad> <pad> <pad> <pad> <pad> <pad> <pad> <pad> <pad> <pad> <pad> <pad> <pad> <pad> <pad> <pad> <pad> <pad> <pad> <pad> <pad> <pad> <pad> <pad> <pad> <pad> <pad> <pad> <pad> <pad> <pad> <pad> <pad> <pad> <pad> <pad> <pad> <pad> <pad> <pad> <pad> <pad> <pad> <pad> <pad> <pad> <pad> <pad> <pad> <pad> <pad> <pad> <pad> <pad> <pad> <pad> <pad> <pad> <pad> <pad> <pad> <pad> <pad> <pad> <pad> <pad> <pad> <pad> <pad> <pad> <pad> <pad> <pad> <pad> <pad> <pad> <pad> <pad> <pad> <pad> <pad> <pad> <pad> <pad> <pad> <pad> <pad> <pad> <pad> <pad> <pad> <pad> <pad> <pad> <pad> <pad> <pad> <pad> <pad> <pad> <pad> <pad> <pad> <pad> <pad> <pad> <pad> <pad> <pad> <pad> <pad> <pad> <pad> <pad> <pad> <pad> <pad> <pad> <pad> <pad> <pad> <pad> <pad> <pad> <pad> <pad> <pad> <pad> <pad> <pad> <pad> <pad> <pad> <pad> <pad> <pad> <pad> <pad> <pad> <pad> <pad> <pad> <pad> <pad> <pad> <pad> <pad> <pad> <pad> <pad> <pad> <pad> <pad> <pad> <pad> <pad> <pad> <pad> <pad> <pad> <pad> <pad> <pad> <pad> <pad> <pad> <pad> <pad> <pad> <pad> <pad> <pad> <pad> <pad> <pad> <pad> <pad> <pad> <pad> <pad> <pad> <pad> <pad> <pad> <pad> <pad> <pad> <pad> <pad> <pad> <pad> <pad> <pad> <pad> <pad> <pad> <pad> <pad> <pad> <pad> <pad> <pad> <pad> <pad> <pad> <pad> <pad> <pad> <pad> <pad> <pad> <pad> <pad> <pad> <pad> <pad> <pad> <pad> <pad> <pad> <pad> <pad> <pad> <pad> <pad> <pad> <pad> <pad> <pad> <pad> <pad> <pad> <pad> <pad> <pad> <pad> <pad> <pad> <pad> <pad> <pad> <pad> <pad> <pad> <pad> <pad> <pad> <pad> <pad> <pad> <pad> <pad> <pad> <pad> <pad> <pad> <pad> <pad> <pad> <pad> <pad> <pad> <pad> <pad> <pad> <pad> <pad> <pad> <pad> <pad> <pad> <pad> <pad> <pad> <pad> <pad> <pad> <pad> <pad> <pad> <pad> <pad> <pad> <pad> <pad> <pad> <pad> <pad> <pad> <pad> <pad> <pad> <pad> <pad> <pad> <pad> <pad> <pad> <pad> <pad> <pad> <pad> <pad> <pad> <pad> <pad> <pad> <pad> <pad> <pad> <pad> <pad> <pad> <pad> <pad> <pad> <pad> <pad> <pad> <pad> <pad> <pad> <pad> <pad> <pad> <pad> <pad> <pad> <pad> <pad> <pad> <pad> <pad> <pad> <pad> <pad> <pad> <pad> <pad> <pad> <pad> <pad> <pad> <pad> <pad> <pad> <pad> <pad> <pad> <pad> <pad> <pad> <pad> <pad> <pad> <pad> <pad> <pad> <pad> <pad> <pad> <pad> <pad> <pad> <pad> <pad> <pad> <pad> <pad> <pad> <pad> <pad> <pad> <pad> <pad> <pad> <pad> <pad> <pad> <pad> <pad> <pad> <pad> <pad> <pad> <pad> <pad> <pad> <pad> <pad> <pad> <pad> <pad> <pad> <pad> <pad> <pad> <pad> <pad> <pad> <pad> <pad> <pad> <pad> <pad> <pad> <pad> <pad> <pad> <pad> <pad> <pad> <pad> <pad> <pad> <pad> <pad> <pad> <pad> <pad> <pad> <pad> <pad> <pad> <pad> <pad> <pad> <pad> <pad> <pad> <pad> <pad> <pad> <pad> <pad> <pad> <pad> <pad> <pad> <pad> <pad> <pad> <pad> <pad> <pad> <pad> <pad> <pad> <pad> <pad> <pad> <pad> <pad> <pad> <pad> <pad> <pad> <pad> <pad> <pad> <pad> <pad> <pad> <pad> <pad> <pad> <pad> <pad> <pad> <pad> <pad> <pad> <pad> <pad> <pad> <pad> <pad> <pad> <pad> <pad> <pad> <pad> <pad> <pad> <pad> <pad> <pad> <pad> <pad> <pad> <pad> <pad> <pad> <pad> <pad> <pad> <pad> <pad> <pad> <pad> <pad> <pad> <pad> <pad> <pad> <pad> <pad> <pad> <pad> <pad> <pad> <pad> <pad> <pad> <pad> <pad> <pad> <pad> <pad> over the last 20 years the majority of british films are about how horribly poverty <unk> the uk is and how our youth doesn't stand a chance of a good life whilst they live on the mean streets of british <unk> the british film industry is obsessed with the idea of <unk> <unk> <unk> this is england, <unk> football <unk> <unk> and from london to <unk> /><br <unk> boy is just another british movie added to that list. the main character expresses a desire to go straight yet he still insists on hanging around with dead beats who carry guns and fight with gang members over nothing. i was never convinced that he did want to go straight as there was nothing stopping him pursuing an education or a <unk> in fact it would have been a breath of fresh air if he had of gone straight and we had a character who turned his life around. instead he spends his time helping his friend trying to commit murder. i felt no sympathy when he is <unk> shot by another teen at the end of the film, which is sad because at the beginning of the film i really liked the entire family and their desire for success. i believe the makers missed a great chance to show the world that success belongs to those who are willing to really <unk> for it (like the pursuit of <unk> <br /><br />i know the purpose of this film was to try and paint a realistic picture of what life is like for black teens living in working class areas of britain but don't we already have enough films in the uk with that very same <unk> isn't it time these talented producers and writers give <unk> youth something to <unk> to and show them a better life is just around the <unk> /><br />i applaud the makers of bullet boy for not <unk> the film full of mindless violence in order to try and get success through shock factors (like <unk> football <unk> but at the same time this movie offers nothing new to a long list of british films that are effectively dull and depressing to watch. there is no happy ending to this movie or any of the others i have <unk> <pad> <pad> <pad> <pad> <pad> <pad> <pad> <pad> <pad> <pad> <pad> <pad> <pad> <pad> <pad> <pad> <pad> <pad> <pad> <pad> <pad> <pad> <pad> <pad> <pad> <pad> <pad> <pad> <pad> <pad> <pad> <pad> <pad> <pad> <pad> <pad> <pad> <pad> <pad> <pad> <pad> <pad> <pad> <pad> <pad> <pad> <pad> <pad> <pad> <pad> <pad> <pad> <pad> <pad> <pad> <pad> <pad> <pad> <pad> <pad> <pad> <pad> <pad> <pad> <pad> <pad> <pad> <pad> <pad> <pad> <pad> <pad> <pad> <pad> <pad> <pad> <pad> <pad> <pad> <pad> <pad> <pad> <pad> <pad> <pad> <pad> <pad> <pad> <pad> <pad> <pad> <pad> <pad> <pad> <pad> <pad> <pad> <pad> <pad> <pad> <pad> <pad> <pad> <pad> <pad> <pad> <pad> <pad> <pad> <pad> <pad> <pad> <pad> <pad> <pad> <pad> <pad> <pad> <pad> <pad> <pad> <pad> <pad> <pad> <pad> <pad> <pad> <pad> <pad> <pad> <pad> <pad> <pad> <pad> <pad> <pad> <pad> <pad> <pad> <pad> <pad> <pad> <pad> <pad> <pad> <pad> <pad> <pad> <pad> <pad> <pad> <pad> <pad> <pad> <pad> <pad> <pad> <pad> <pad> <pad> <pad> <pad> <pad> <pad> <pad> <pad> <pad> <pad> <pad> <pad> <pad> <pad> <pad> <pad> <pad> <pad> <pad> <pad> <pad> <pad> <pad> <pad> <pad> <pad> <pad> <pad> <pad> <pad> <pad> <pad> <pad> <pad> <pad> <pad> <pad> <pad> <pad> <pad> <pad> <pad> <pad> <pad> <pad> <pad> <pad> <pad> <pad> <pad> <pad> <pad> <pad> <pad> <pad> <pad> <pad> <pad> <pad> <pad> <pad> <pad> <pad> <pad> <pad> <pad> <pad> <pad> <pad> <pad> <pad> <pad> <pad> <pad> <pad> <pad> <pad> <pad> <pad> <pad> <pad> <pad> <pad> <pad> <pad> <pad> <pad> <pad> <pad> <pad> <pad> <pad> <pad> <pad> <pad> <pad> <pad> <pad> <pad> <pad> <pad> <pad> <pad> <pad> <pad> <pad> <pad> <pad> <pad> <pad> <pad> <pad> <pad> <pad> <pad> <pad> <pad> <pad> <pad> <pad> <pad> <pad> <pad> <pad> <pad> <pad> <pad> <pad> <pad> <pad> <pad> <pad> <pad> <pad> <pad> <pad> <pad> <pad> <pad> <pad> <pad> <pad> <pad> <pad> <pad> <pad> <pad> <pad> <pad> <pad> <pad> <pad> <pad> <pad> <pad> <pad> <pad> <pad> <pad> <pad> <pad> <pad> <pad> <pad> <pad> <pad> <pad> <pad> <pad> <pad> <pad> <pad> <pad> <pad> <pad> <pad> <pad> <pad> <pad> <pad> <pad> <pad> <pad> <pad> <pad> <pad> <pad> <pad> <pad> <pad> <pad> <pad> <pad> <pad> <pad> <pad> <pad> <pad> <pad> <pad> <pad> <pad> <pad> <pad> <pad> <pad> <pad> <pad> <pad> <pad> <pad> <pad> <pad> <pad> <pad> <pad> <pad> <pad> <pad> <pad> <pad> <pad> <pad> <pad> <pad> <pad> <pad> <pad> <pad> <pad> <pad> <pad> <pad> <pad> <pad> <pad> <pad> <pad> <pad> <pad> <pad> <pad> <pad> <pad> <pad> <pad> <pad> <pad> <pad> <pad> <pad> <pad> <pad> <pad> <pad> <pad> <pad> <pad> <pad>\""
      ]
     },
     "execution_count": 58,
     "metadata": {},
     "output_type": "execute_result"
    }
   ],
   "source": [
    "output = []\n",
    "for ele in wrongs:\n",
    "        for index in ele:\n",
    "            output.append(id2token[index])\n",
    "(' ').join(output)"
   ]
  },
  {
   "cell_type": "code",
   "execution_count": null,
   "metadata": {
    "collapsed": true
   },
   "outputs": [],
   "source": []
  },
  {
   "cell_type": "code",
   "execution_count": 51,
   "metadata": {},
   "outputs": [
    {
     "name": "stdout",
     "output_type": "stream",
     "text": [
      "['i', 'have', 'read', 'all', 'of', 'the', 'love', 'come', '<unk>', 'books.', 'knowing', 'full', 'well', 'that', 'movies', 'can', 'not', 'use', 'all', 'aspects', 'of', 'the', '<unk>', 'generally', 'they', 'at', 'least', 'have', 'the', 'main', 'point', 'of', 'the', 'book.', 'i', 'was', 'highly', 'disappointed', 'in', 'this', 'movie.', 'the', 'only', 'thing', 'that', 'they', 'have', 'in', 'this', 'movie', 'that', 'is', 'in', 'the', 'book', 'is', 'that', '<unk>', 'father', 'comes', 'to', '<unk>', 'in', 'the', 'book', 'both', 'parents', '<unk>', 'that', 'is', 'all.', 'the', 'story', 'line', 'was', 'so', 'twisted', 'and', 'far', '<unk>', 'and', 'yes,', 'sad,', 'from', 'the', 'book,', 'that', 'i', 'just', \"couldn't\", 'enjoy', 'it.', 'even', 'if', 'i', \"didn't\", 'read', 'the', 'book', 'it', 'was', 'too', 'sad.', 'i', 'do', 'know', 'that', '<unk>', 'life', 'was', '<unk>', 'the', 'whole', 'movie', 'was', 'a', '<unk>', 'the', 'rating', 'is', 'for', 'having', 'the', 'same', 'family', '<unk>', 'of', 'the', 'film', 'that', 'makes', 'them', '<unk>', '<pad>', '<pad>', '<pad>', '<pad>', '<pad>', '<pad>', '<pad>', '<pad>', '<pad>', '<pad>', '<pad>', '<pad>', '<pad>', '<pad>', '<pad>', '<pad>', '<pad>', '<pad>', '<pad>', '<pad>', '<pad>', '<pad>', '<pad>', '<pad>', '<pad>', '<pad>', '<pad>', '<pad>', '<pad>', '<pad>', '<pad>', '<pad>', '<pad>', '<pad>', '<pad>', '<pad>', '<pad>', '<pad>', '<pad>', '<pad>', '<pad>', '<pad>', '<pad>', '<pad>', '<pad>', '<pad>', '<pad>', '<pad>', '<pad>', '<pad>', '<pad>', '<pad>', '<pad>', '<pad>', '<pad>', '<pad>', '<pad>', '<pad>', '<pad>', '<pad>', '<pad>', '<pad>', '<pad>', '<pad>', '<pad>', '<pad>', '<pad>', '<pad>', '<pad>', '<pad>', '<pad>', '<pad>', '<pad>', '<pad>', '<pad>', '<pad>', '<pad>', '<pad>', '<pad>', '<pad>', '<pad>', '<pad>', '<pad>', '<pad>', '<pad>', '<pad>', '<pad>', '<pad>', '<pad>', '<pad>', '<pad>', '<pad>', '<pad>', '<pad>', '<pad>', '<pad>', '<pad>', '<pad>', '<pad>', '<pad>', '<pad>', '<pad>', '<pad>', '<pad>', '<pad>', '<pad>', '<pad>', '<pad>', '<pad>', '<pad>', '<pad>', '<pad>', '<pad>', '<pad>', '<pad>', '<pad>', '<pad>', '<pad>', '<pad>', '<pad>', '<pad>', '<pad>', '<pad>', '<pad>', '<pad>', '<pad>', '<pad>', '<pad>', '<pad>', '<pad>', '<pad>', '<pad>', '<pad>', '<pad>', '<pad>', '<pad>', '<pad>', '<pad>', '<pad>', '<pad>', '<pad>', '<pad>', '<pad>', '<pad>', '<pad>', '<pad>', '<pad>', '<pad>', '<pad>', '<pad>', '<pad>', '<pad>', '<pad>', '<pad>', '<pad>', '<pad>', '<pad>', '<pad>', '<pad>', '<pad>', '<pad>', '<pad>', '<pad>', '<pad>', '<pad>', '<pad>', '<pad>', '<pad>', '<pad>', '<pad>', '<pad>', '<pad>', '<pad>', '<pad>', '<pad>', '<pad>', '<pad>', '<pad>', '<pad>', '<pad>', '<pad>', '<pad>', '<pad>', '<pad>', '<pad>', '<pad>', '<pad>', '<pad>', '<pad>', '<pad>', '<pad>', '<pad>', '<pad>', '<pad>', '<pad>', '<pad>', '<pad>', '<pad>', '<pad>', '<pad>', '<pad>', '<pad>', '<pad>', '<pad>', '<pad>', '<pad>', '<pad>', '<pad>', '<pad>', '<pad>', '<pad>', '<pad>', '<pad>', '<pad>', '<pad>', '<pad>', '<pad>', '<pad>', '<pad>', '<pad>', '<pad>', '<pad>', '<pad>', '<pad>', '<pad>', '<pad>', '<pad>', '<pad>', '<pad>', '<pad>', '<pad>', '<pad>', '<pad>', '<pad>', '<pad>', '<pad>', '<pad>', '<pad>', '<pad>', '<pad>', '<pad>', '<pad>', '<pad>', '<pad>', '<pad>', '<pad>', '<pad>', '<pad>', '<pad>', '<pad>', '<pad>', '<pad>', '<pad>', '<pad>', '<pad>', '<pad>', '<pad>', '<pad>', '<pad>', '<pad>', '<pad>', '<pad>', '<pad>', '<pad>', '<pad>', '<pad>', '<pad>', '<pad>', '<pad>', '<pad>', '<pad>', '<pad>', '<pad>', '<pad>', '<pad>', '<pad>', '<pad>', '<pad>', '<pad>', '<pad>', '<pad>', '<pad>', '<pad>', '<pad>', '<pad>', '<pad>', '<pad>', '<pad>', '<pad>', '<pad>', '<pad>', '<pad>', '<pad>', '<pad>', '<pad>', '<pad>', '<pad>', '<pad>', '<pad>', '<pad>', '<pad>', '<pad>', '<pad>', '<pad>', '<pad>', '<pad>', '<pad>', '<pad>', '<pad>', '<pad>', '<pad>', '<pad>', '<pad>', '<pad>', '<pad>', '<pad>', '<pad>', '<pad>', '<pad>', '<pad>', '<pad>', '<pad>', '<pad>', '<pad>', '<pad>', '<pad>', '<pad>', '<pad>', '<pad>', '<pad>', '<pad>', '<pad>', '<pad>', '<pad>', '<pad>', '<pad>', '<pad>', '<pad>', '<pad>', '<pad>', '<pad>', '<pad>', '<pad>', '<pad>', '<pad>', '<pad>', '<pad>', '<pad>', '<pad>', '<pad>', '<pad>', '<pad>', '<pad>', '<pad>', '<pad>', '<pad>', '<pad>', '<pad>', '<pad>', '<pad>', '<pad>', '<pad>', '<pad>', '<pad>', '<pad>', '<pad>', '<pad>', '<pad>', '<pad>', '<pad>', '<pad>', '<pad>', '<pad>', '<pad>', '<pad>', '<pad>', '<pad>', '<pad>', '<pad>', '<pad>', '<pad>', '<pad>', '<pad>', '<pad>', '<pad>', '<pad>', '<pad>', '<pad>', '<pad>', '<pad>', '<pad>', '<pad>', '<pad>', '<pad>', '<pad>', '<pad>', '<pad>', '<pad>', '<pad>', '<pad>', '<pad>', '<pad>', '<pad>', '<pad>', '<pad>', '<pad>', '<pad>', '<pad>', '<pad>', '<pad>', '<pad>', '<pad>', '<pad>', '<pad>', '<pad>', '<pad>', '<pad>', '<pad>', '<pad>', '<pad>', '<pad>', '<pad>', '<pad>', '<pad>', '<pad>', '<pad>', '<pad>', '<pad>', '<pad>', '<pad>', '<pad>', '<pad>', '<pad>', '<pad>', '<pad>', '<pad>', '<pad>', '<pad>', '<pad>', '<pad>', '<pad>', '<pad>', '<pad>', '<pad>', '<pad>', '<pad>', '<pad>', '<pad>', '<pad>', '<pad>', '<pad>', '<pad>', '<pad>', '<pad>', '<pad>', '<pad>', '<pad>', '<pad>', '<pad>', '<pad>', '<pad>', '<pad>', '<pad>', '<pad>', '<pad>', '<pad>', '<pad>', '<pad>', '<pad>', '<pad>', '<pad>', '<pad>', '<pad>', '<pad>', '<pad>', '<pad>', '<pad>', '<pad>', '<pad>', '<pad>', '<pad>', '<pad>', '<pad>', '<pad>', '<pad>', '<pad>', '<pad>', '<pad>', '<pad>', '<pad>', '<pad>', '<pad>', '<pad>', '<pad>', '<pad>', '<pad>', '<pad>', '<pad>', '<pad>', '<pad>', '<pad>', '<pad>', '<pad>', '<pad>', '<pad>', '<pad>', '<pad>', '<pad>', '<pad>', '<pad>', '<pad>', '<pad>', '<pad>', '<pad>', '<pad>', '<pad>', '<pad>', '<pad>', '<pad>', '<pad>', '<pad>', '<pad>', '<pad>', '<pad>', '<pad>', '<pad>', '<pad>', '<pad>', '<pad>', '<pad>', '<pad>', '<pad>', '<pad>', '<pad>', '<pad>', '<pad>', '<pad>', '<pad>', '<pad>', '<pad>', '<pad>', '<pad>', '<pad>', '<pad>', '<pad>', '<pad>', '<pad>', '<pad>', '<pad>', '<pad>', '<pad>', '<pad>', '<pad>', '<pad>', '<pad>', '<pad>', '<pad>', '<pad>', '<pad>', '<pad>', '<pad>', '<pad>', '<pad>', '<pad>', '<pad>', '<pad>', '<pad>', '<pad>', '<pad>', '<pad>', '<pad>', '<pad>', '<pad>', '<pad>', '<pad>', '<pad>', '<pad>', '<pad>', '<pad>', '<pad>', '<pad>', '<pad>', '<pad>', '<pad>', '<pad>', '<pad>', '<pad>', '<pad>', '<pad>', '<pad>', '<pad>', '<pad>', '<pad>', '<pad>', '<pad>', '<pad>', '<pad>', '<pad>', '<pad>', '<pad>', '<pad>', '<pad>', '<pad>', '<pad>', '<pad>', '<pad>', '<pad>', '<pad>', '<pad>', '<pad>', '<pad>', '<pad>', '<pad>', '<pad>', '<pad>', '<pad>', '<pad>', '<pad>', '<pad>', '<pad>', '<pad>', '<pad>', '<pad>', '<pad>', '<pad>', '<pad>', '<pad>', '<pad>', '<pad>', '<pad>', '<pad>', '<pad>', '<pad>', '<pad>', '<pad>', '<pad>', '<pad>', '<pad>', '<pad>', '<pad>', '<pad>', '<pad>', '<pad>', '<pad>', '<pad>', '<pad>', '<pad>', '<pad>', '<pad>', '<pad>', '<pad>', '<pad>', '<pad>', '<pad>', '<pad>', '<pad>', '<pad>', '<pad>', '<pad>', '<pad>', '<pad>', '<pad>', '<pad>', '<pad>', '<pad>', '<pad>', '<pad>', 'the', 'idea', 'was', 'awesome,', 'the', 'actors', 'were', 'incredible,', 'the', 'story', 'could', 'of', 'been', 'very', 'scary,', 'but', 'the', 'writing', 'was', 'poor', 'and', 'there', 'was', 'no', 'depth.', 'i', \"couldn't\", 'really', 'get', 'into', 'this', 'movie.', 'i', \"couldn't\", 'feel', 'for', 'the', 'characters,', 'there', 'were', 'a', 'lot', 'of', '<unk>', 'and', 'the', 'movie', 'just', 'ends', 'very', '<unk>', 'was', 'it', 'a', 'happy', '<unk>', 'i', \"don't\", 'know.', 'was', 'it', 'a', 'sad', '<unk>', 'again,', 'i', \"don't\", 'know.', 'you', 'leave', 'the', 'theater', 'feeling', '<unk>', 'the', 'movie', 'had', 'so', 'much', 'to', '<unk>', 'but', '<unk>', 'just', 'because', 'you', 'can', '<unk>', \"doesn't\", 'mean', 'you', '<unk>', 'right?', 'i', \"wouldn't\", 'really', 'recommend', 'this', 'movie', 'because', 'you', 'just', \"can't\", 'say', 'that', 'you', 'left', 'the', 'movie', 'feeling', 'like', 'it', 'was', '<unk>', \"you'll\", 'just', 'be', '<unk>', 'trust', 'me,', 'you', 'will', 'probably', 'thank', 'me', 'if', 'you', \"don't\", 'watch', 'this', 'movie.<br', '/><br', '<unk>', '<pad>', '<pad>', '<pad>', '<pad>', '<pad>', '<pad>', '<pad>', '<pad>', '<pad>', '<pad>', '<pad>', '<pad>', '<pad>', '<pad>', '<pad>', '<pad>', '<pad>', '<pad>', '<pad>', '<pad>', '<pad>', '<pad>', '<pad>', '<pad>', '<pad>', '<pad>', '<pad>', '<pad>', '<pad>', '<pad>', '<pad>', '<pad>', '<pad>', '<pad>', '<pad>', '<pad>', '<pad>', '<pad>', '<pad>', '<pad>', '<pad>', '<pad>', '<pad>', '<pad>', '<pad>', '<pad>', '<pad>', '<pad>', '<pad>', '<pad>', '<pad>', '<pad>', '<pad>', '<pad>', '<pad>', '<pad>', '<pad>', '<pad>', '<pad>', '<pad>', '<pad>', '<pad>', '<pad>', '<pad>', '<pad>', '<pad>', '<pad>', '<pad>', '<pad>', '<pad>', '<pad>', '<pad>', '<pad>', '<pad>', '<pad>', '<pad>', '<pad>', '<pad>', '<pad>', '<pad>', '<pad>', '<pad>', '<pad>', '<pad>', '<pad>', '<pad>', '<pad>', '<pad>', '<pad>', '<pad>', '<pad>', '<pad>', '<pad>', '<pad>', '<pad>', '<pad>', '<pad>', '<pad>', '<pad>', '<pad>', '<pad>', '<pad>', '<pad>', '<pad>', '<pad>', '<pad>', '<pad>', '<pad>', '<pad>', '<pad>', '<pad>', '<pad>', '<pad>', '<pad>', '<pad>', '<pad>', '<pad>', '<pad>', '<pad>', '<pad>', '<pad>', '<pad>', '<pad>', '<pad>', '<pad>', '<pad>', '<pad>', '<pad>', '<pad>', '<pad>', '<pad>', '<pad>', '<pad>', '<pad>', '<pad>', '<pad>', '<pad>', '<pad>', '<pad>', '<pad>', '<pad>', '<pad>', '<pad>', '<pad>', '<pad>', '<pad>', '<pad>', '<pad>', '<pad>', '<pad>', '<pad>', '<pad>', '<pad>', '<pad>', '<pad>', '<pad>', '<pad>', '<pad>', '<pad>', '<pad>', '<pad>', '<pad>', '<pad>', '<pad>', '<pad>', '<pad>', '<pad>', '<pad>', '<pad>', '<pad>', '<pad>', '<pad>', '<pad>', '<pad>', '<pad>', '<pad>', '<pad>', '<pad>', '<pad>', '<pad>', '<pad>', '<pad>', '<pad>', '<pad>', '<pad>', '<pad>', '<pad>', '<pad>', '<pad>', '<pad>', '<pad>', '<pad>', '<pad>', '<pad>', '<pad>', '<pad>', '<pad>', '<pad>', '<pad>', '<pad>', '<pad>', '<pad>', '<pad>', '<pad>', '<pad>', '<pad>', '<pad>', '<pad>', '<pad>', '<pad>', '<pad>', '<pad>', '<pad>', '<pad>', '<pad>', '<pad>', '<pad>', '<pad>', '<pad>', '<pad>', '<pad>', '<pad>', '<pad>', '<pad>', '<pad>', '<pad>', '<pad>', '<pad>', '<pad>', '<pad>', '<pad>', '<pad>', '<pad>', '<pad>', '<pad>', '<pad>', '<pad>', '<pad>', '<pad>', '<pad>', '<pad>', '<pad>', '<pad>', '<pad>', '<pad>', '<pad>', '<pad>', '<pad>', '<pad>', '<pad>', '<pad>', '<pad>', '<pad>', '<pad>', '<pad>', '<pad>', '<pad>', '<pad>', '<pad>', '<pad>', '<pad>', '<pad>', '<pad>', '<pad>', '<pad>', '<pad>', '<pad>', '<pad>', '<pad>', '<pad>', '<pad>', '<pad>', '<pad>', '<pad>', '<pad>', '<pad>', '<pad>', '<pad>', '<pad>', '<pad>', '<pad>', '<pad>', '<pad>', '<pad>', '<pad>', '<pad>', '<pad>', '<pad>', '<pad>', '<pad>', '<pad>', '<pad>', '<pad>', '<pad>', '<pad>', '<pad>', '<pad>', '<pad>', '<pad>', '<pad>', '<pad>', '<pad>', '<pad>', '<pad>', '<pad>', '<pad>', '<pad>', '<pad>', '<pad>', '<pad>', '<pad>', '<pad>', '<pad>', '<pad>', '<pad>', '<pad>', '<pad>', '<pad>', '<pad>', '<pad>', '<pad>', '<pad>', '<pad>', '<pad>', '<pad>', '<pad>', '<pad>', '<pad>', '<pad>', '<pad>', '<pad>', '<pad>', '<pad>', '<pad>', '<pad>', '<pad>', '<pad>', '<pad>', '<pad>', '<pad>', '<pad>', '<pad>', '<pad>', '<pad>', '<pad>', '<pad>', '<pad>', '<pad>', '<pad>', '<pad>', '<pad>', '<pad>', '<pad>', '<pad>', '<pad>', '<pad>', '<pad>', '<pad>', '<pad>', '<pad>', '<pad>', '<pad>', '<pad>', '<pad>', '<pad>', '<pad>', '<pad>', '<pad>', '<pad>', '<pad>', '<pad>', '<pad>', '<pad>', '<pad>', '<pad>', '<pad>', '<pad>', '<pad>', '<pad>', '<pad>', '<pad>', '<pad>', '<pad>', '<pad>', '<pad>', '<pad>', '<pad>', '<pad>', '<pad>', '<pad>', '<pad>', '<pad>', '<pad>', '<pad>', '<pad>', '<pad>', '<pad>', '<pad>', '<pad>', '<pad>', '<pad>', '<pad>', '<pad>', '<pad>', '<pad>', '<pad>', '<pad>', '<pad>', '<pad>', '<pad>', '<pad>', '<pad>', '<pad>', '<pad>', '<pad>', '<pad>', '<pad>', '<pad>', '<pad>', '<pad>', '<pad>', '<pad>', '<pad>', '<pad>', '<pad>', '<pad>', '<pad>', '<pad>', '<pad>', '<pad>', '<pad>', '<pad>', '<pad>', '<pad>', '<pad>', '<pad>', '<pad>', '<pad>', '<pad>', '<pad>', '<pad>', '<pad>', '<pad>', '<pad>', '<pad>', '<pad>', '<pad>', '<pad>', '<pad>', '<pad>', '<pad>', '<pad>', '<pad>', '<pad>', '<pad>', '<pad>', '<pad>', '<pad>', '<pad>', '<pad>', '<pad>', '<pad>', '<pad>', '<pad>', '<pad>', '<pad>', '<pad>', '<pad>', '<pad>', '<pad>', '<pad>', '<pad>', '<pad>', '<pad>', '<pad>', '<pad>', '<pad>', '<pad>', '<pad>', '<pad>', '<pad>', '<pad>', '<pad>', '<pad>', '<pad>', '<pad>', '<pad>', '<pad>', '<pad>', '<pad>', '<pad>', '<pad>', '<pad>', '<pad>', '<pad>', '<pad>', '<pad>', '<pad>', '<pad>', '<pad>', '<pad>', '<pad>', '<pad>', '<pad>', '<pad>', '<pad>', '<pad>', '<pad>', '<pad>', '<pad>', '<pad>', '<pad>', '<pad>', '<pad>', '<pad>', '<pad>', '<pad>', '<pad>', '<pad>', '<pad>', '<pad>', '<pad>', '<pad>', '<pad>', '<pad>', '<pad>', '<pad>', '<pad>', '<pad>', '<pad>', '<pad>', '<pad>', '<pad>', '<pad>', '<pad>', '<pad>', '<pad>', '<pad>', '<pad>', '<pad>', '<pad>', '<pad>', '<pad>', '<pad>', '<pad>', '<pad>', '<pad>', '<pad>', '<pad>', '<pad>', '<pad>', '<pad>', '<pad>', '<pad>', '<pad>', '<pad>', '<pad>', '<pad>', '<pad>', '<pad>', '<pad>', '<pad>', '<pad>', '<pad>', '<pad>', '<pad>', '<pad>', '<pad>', '<pad>', '<pad>', '<pad>', '<pad>', '<pad>', '<pad>', '<pad>', '<pad>', '<pad>', '<pad>', '<pad>', '<pad>', '<pad>', '<pad>', '<pad>', '<pad>', '<pad>', '<pad>', '<pad>', '<pad>', '<pad>', '<pad>', '<pad>', '<pad>', '<pad>', '<pad>', '<pad>', '<pad>', '<pad>', '<pad>', '<pad>', '<pad>', '<pad>', '<pad>', '<pad>', '<pad>', '<pad>', '<pad>', '<pad>', '<pad>', '<pad>', '<pad>', '<pad>', '<pad>', '<pad>', '<pad>', '<pad>', '<pad>', '<pad>', '<pad>', '<pad>', '<pad>', '<pad>', '<pad>', '<pad>', '<pad>', '<pad>', '<pad>', '<pad>', '<pad>', '<pad>', '<pad>', '<pad>', '<pad>', '<pad>', '<pad>', '<pad>', '<pad>', '<pad>', '<pad>', '<pad>', '<pad>', '<pad>', '<pad>', '<pad>', '<pad>', '<pad>', '<pad>', '<pad>', '<pad>', '<pad>', '<pad>', '<pad>', '<pad>', '<pad>', '<pad>', '<pad>', '<pad>', '<pad>', '<pad>', '<pad>', '<pad>', '<pad>', '<pad>', '<pad>', '<pad>', '<pad>', '<pad>', '<pad>', 'before', 'i', 'go', 'on', 'i', 'have', 'to', 'admit', 'to', 'being', 'a', 'huge', '<unk>', '<unk>', 'fan.', 'in', 'fact', 'thats', 'what', 'attracted', 'me', 'to', 'the', 'dvd', 'case', 'in', 'the', 'first', 'place.', 'i', 'probably', 'would', 'have', 'bought', 'it', 'anyway', 'being', 'such', 'a', 'big', 'horror', 'fan', 'and', 'having', 'enjoyed', 'the', 'first', 'vampires', 'title', 'so', 'much.<br', '/><br', '/>but', 'this', \"isn't\", 'half', 'as', 'good.', 'not', 'even', 'jon', 'could', 'save', 'this', 'film', 'for', 'me.', 'my', 'main', 'problem', 'would', 'be', 'that', 'it', 'simply', \"isn't\", 'scary.', 'apart', 'from', '<unk>', 'character', 'derek', '<unk>', 'none', 'of', 'the', 'other', 'characters', 'make', 'an', 'impression', 'and', 'you', \"couldn't\", 'care', 'less', 'whether', 'they', 'die', 'or', 'not,', 'especially', 'the', 'annoying', 'vampire', '/', 'drug', '<unk>', 'woman.', 'the', 'female', 'vampire', 'simply', \"isn't\", 'scary', 'or', '<unk>', 'rather', 'she', 'looks', 'like', 'an', '<unk>', '14', 'year', 'girl,', 'no', 'wonder', 'she', 'is', 'so', 'desperate', 'for', 'blood', 'then.', 'another', 'huge', 'problem', 'is', 'that', 'everything', 'is', 'just', '<unk>', '<unk>', 'there', 'is', 'no', 'atmosphere', 'or', 'sense', 'of', '<unk>', 'i', 'know', 'the', 'first', 'vampires', 'being', 'set', 'in', 'new', 'mexico', \"wasn't\", 'exactly', 'the', 'twilight', 'zone', 'in', 'terms', 'of', '<unk>', 'but', 'yet', 'it', 'still', 'managed', 'to', 'be', 'dark', 'and', '<unk>', 'when', 'it', 'needed', 'to', 'be.', 'this', 'film', 'has', 'no', 'tension', 'like', 'that.<br', '/><br', '/>the', 'story', 'is', 'basically', 'the', 'same', 'as', 'before.', 'vampire', 'wants', '<unk>', 'cross', 'to', 'be', 'able', 'to', 'walk', 'in', '<unk>', 'however', 'the', 'story', 'has', 'less', 'cool', 'bits', 'this', 'time.', 'there', 'is', 'no', 'wow', 'factor', 'in', 'knowing', 'this', 'is', 'the', 'master', 'of', 'all', 'master', '-', 'the', 'original', '<unk>', 'as', 'in', 'the', 'first', 'film.', 'you', 'really', \"don't\", 'care', 'who', 'or', 'what', 'this', 'one', 'is.', 'there', 'is', 'no', 'army', 'of', '<unk>', 'instead', 'she', 'hides', 'out', 'in', 'some', 'old', 'ruin', 'which', 'looks', 'more', 'like', 'a', '<unk>', 'attraction', 'then', 'a', 'creepy', '<unk>', '/><br', '/>so', 'there', 'you', 'have', 'it', 'really.', 'lack', 'of', '<unk>', 'lack', 'of', 'atmosphere,', 'lack', 'of', 'interesting', 'story.', 'a', 'real', 'let', 'down', 'for', 'me', '<unk>', '<pad>', '<pad>', '<pad>', '<pad>', '<pad>', '<pad>', '<pad>', '<pad>', '<pad>', '<pad>', '<pad>', '<pad>', '<pad>', '<pad>', '<pad>', '<pad>', '<pad>', '<pad>', '<pad>', '<pad>', '<pad>', '<pad>', '<pad>', '<pad>', '<pad>', '<pad>', '<pad>', '<pad>', '<pad>', '<pad>', '<pad>', '<pad>', '<pad>', '<pad>', '<pad>', '<pad>', '<pad>', '<pad>', '<pad>', '<pad>', '<pad>', '<pad>', '<pad>', '<pad>', '<pad>', '<pad>', '<pad>', '<pad>', '<pad>', '<pad>', '<pad>', '<pad>', '<pad>', '<pad>', '<pad>', '<pad>', '<pad>', '<pad>', '<pad>', '<pad>', '<pad>', '<pad>', '<pad>', '<pad>', '<pad>', '<pad>', '<pad>', '<pad>', '<pad>', '<pad>', '<pad>', '<pad>', '<pad>', '<pad>', '<pad>', '<pad>', '<pad>', '<pad>', '<pad>', '<pad>', '<pad>', '<pad>', '<pad>', '<pad>', '<pad>', '<pad>', '<pad>', '<pad>', '<pad>', '<pad>', '<pad>', '<pad>', '<pad>', '<pad>', '<pad>', '<pad>', '<pad>', '<pad>', '<pad>', '<pad>', '<pad>', '<pad>', '<pad>', '<pad>', '<pad>', '<pad>', '<pad>', '<pad>', '<pad>', '<pad>', '<pad>', '<pad>', '<pad>', '<pad>', '<pad>', '<pad>', '<pad>', '<pad>', '<pad>', '<pad>', '<pad>', '<pad>', '<pad>', '<pad>', '<pad>', '<pad>', '<pad>', '<pad>', '<pad>', '<pad>', '<pad>', '<pad>', '<pad>', '<pad>', '<pad>', '<pad>', '<pad>', '<pad>', '<pad>', '<pad>', '<pad>', '<pad>', '<pad>', '<pad>', '<pad>', '<pad>', '<pad>', '<pad>', '<pad>', '<pad>', '<pad>', '<pad>', '<pad>', '<pad>', '<pad>', '<pad>', '<pad>', '<pad>', '<pad>', '<pad>', '<pad>', '<pad>', '<pad>', '<pad>', '<pad>', '<pad>', '<pad>', '<pad>', '<pad>', '<pad>', '<pad>', '<pad>', '<pad>', '<pad>', '<pad>', '<pad>', '<pad>', '<pad>', '<pad>', '<pad>', '<pad>', '<pad>', '<pad>', '<pad>', '<pad>', '<pad>', '<pad>', '<pad>', '<pad>', '<pad>', '<pad>', '<pad>', '<pad>', '<pad>', '<pad>', '<pad>', '<pad>', '<pad>', '<pad>', '<pad>', '<pad>', '<pad>', '<pad>', '<pad>', '<pad>', '<pad>', '<pad>', '<pad>', '<pad>', '<pad>', '<pad>', '<pad>', '<pad>', '<pad>', '<pad>', '<pad>', '<pad>', '<pad>', '<pad>', '<pad>', '<pad>', '<pad>', '<pad>', '<pad>', '<pad>', '<pad>', '<pad>', '<pad>', '<pad>', '<pad>', '<pad>', '<pad>', '<pad>', '<pad>', '<pad>', '<pad>', '<pad>', '<pad>', '<pad>', '<pad>', '<pad>', '<pad>', '<pad>', '<pad>', '<pad>', '<pad>', '<pad>', '<pad>', '<pad>', '<pad>', '<pad>', '<pad>', '<pad>', '<pad>', '<pad>', '<pad>', '<pad>', '<pad>', '<pad>', '<pad>', '<pad>', '<pad>', '<pad>', '<pad>', '<pad>', '<pad>', '<pad>', '<pad>', '<pad>', '<pad>', '<pad>', '<pad>', '<pad>', '<pad>', '<pad>', '<pad>', '<pad>', '<pad>', '<pad>', '<pad>', '<pad>', '<pad>', '<pad>', '<pad>', '<pad>', '<pad>', '<pad>', '<pad>', '<pad>', '<pad>', '<pad>', '<pad>', '<pad>', '<pad>', '<pad>', '<pad>', '<pad>', '<pad>', '<pad>', '<pad>', '<pad>', '<pad>', '<pad>', '<pad>', '<pad>', '<pad>', '<pad>', '<pad>', '<pad>', '<pad>', '<pad>', '<pad>', '<pad>', '<pad>', '<pad>', '<pad>', '<pad>', '<pad>', '<pad>', '<pad>', '<pad>', '<pad>', '<pad>', '<pad>', '<pad>', '<pad>', '<pad>', '<pad>', '<pad>', '<pad>', '<pad>', '<pad>', '<pad>', '<pad>', '<pad>', '<pad>', '<pad>', '<pad>', '<pad>', '<pad>', '<pad>', '<pad>', '<pad>', '<pad>', '<pad>', '<pad>', '<pad>', '<pad>', '<pad>', '<pad>', '<pad>', '<pad>', '<pad>', '<pad>', '<pad>', '<pad>', '<pad>', '<pad>', '<pad>', '<pad>', '<pad>', '<pad>', '<pad>', '<pad>', '<pad>', '<pad>', '<pad>', '<pad>', '<pad>', '<pad>', '<pad>', '<pad>', '<pad>', '<pad>', '<pad>', '<pad>', '<pad>', '<pad>', '<pad>', '<pad>', '<pad>', '<pad>', '<pad>', '<pad>', '<pad>', '<pad>', '<pad>', '<pad>', '<pad>', '<pad>', '<pad>', '<pad>', '<pad>', '<pad>', '<pad>', '<pad>', '<pad>', '<pad>', '<pad>', '<pad>', '<pad>', '<pad>', '<pad>', '<pad>', '<pad>', '<pad>', '<pad>', '<pad>', '<pad>', '<pad>', '<pad>', '<pad>', '<pad>', '<pad>', '<pad>', '<pad>', '<pad>', '<pad>', '<pad>', '<pad>', '<pad>', '<pad>', '<pad>', '<pad>', '<pad>', '<pad>', '<pad>', '<pad>', '<pad>', '<pad>', '<pad>', '<pad>', '<pad>', '<pad>', '<pad>', '<pad>', '<pad>', '<pad>', '<pad>', '<pad>', '<pad>', '<pad>', '<pad>', '<pad>', '<pad>', '<pad>', '<pad>', '<pad>', '<pad>', '<pad>', '<pad>', '<pad>', '<pad>', '<pad>', '<pad>', '<pad>', '<pad>', '<pad>', '<pad>', '<pad>', '<pad>', '<pad>', '<pad>', '<pad>', '<pad>', '<pad>', '<pad>', '<pad>', '<pad>', '<pad>', '<pad>', '<pad>', '<pad>', '<pad>', '<pad>', '<pad>', '<pad>', '<pad>', '<pad>', '<pad>', '<pad>', '<pad>', '<pad>', '<pad>', '<pad>', '<pad>', '<pad>', '<pad>', '<pad>', '<pad>', '<pad>', '<pad>', '<pad>', '<pad>', '<pad>']\n",
      "['<unk>', 'i', 'may', 'be', 'a', '<unk>', 'but', \"i'll\", 'never', 'be', 'a', '<unk>', '<br', '/><br', '/>a', 'hilarious', 'line', 'in', 'an', 'otherwise', 'rather', 'tiresome', 'skin', 'flick', 'which', 'features', 'a', 'pretty', '<unk>', 'in', '<unk>', '<unk>', 'but', \"that's\", 'about', 'all.', 'this', '<unk>', 'a', 'real', '<unk>', 'who', '<unk>', 'her', '<unk>', '<unk>', 'and', 'even', 'her', 'lesbian', 'roommate', 'paula', 'into', 'her', '<unk>', 'but', 'then', 'turns', 'into', 'a', '<unk>', 'job', 'who', 'cries', '<unk>', 'and', 'calls', 'for', 'the', '<unk>', '<br', '/><br', '/>the', '<unk>', 'personality', 'of', 'this', '<unk>', '<unk>', 'is', 'interesting', 'for', 'maybe', 'a', 'little', 'while,', 'but', 'this', 'story', 'ultimately', 'turns', 'into', 'a', 'real', 'repetitive', '<unk>', 'affair.', 'at', 'least', 'the', 'ending', 'is', 'worth', 'the', 'wait,', 'for', 'those', 'who', 'will', 'still', 'care', 'by', 'that', 'time.\\n', '<pad>', '<pad>', '<pad>', '<pad>', '<pad>', '<pad>', '<pad>', '<pad>', '<pad>', '<pad>', '<pad>', '<pad>', '<pad>', '<pad>', '<pad>', '<pad>', '<pad>', '<pad>', '<pad>', '<pad>', '<pad>', '<pad>', '<pad>', '<pad>', '<pad>', '<pad>', '<pad>', '<pad>', '<pad>', '<pad>', '<pad>', '<pad>', '<pad>', '<pad>', '<pad>', '<pad>', '<pad>', '<pad>', '<pad>', '<pad>', '<pad>', '<pad>', '<pad>', '<pad>', '<pad>', '<pad>', '<pad>', '<pad>', '<pad>', '<pad>', '<pad>', '<pad>', '<pad>', '<pad>', '<pad>', '<pad>', '<pad>', '<pad>', '<pad>', '<pad>', '<pad>', '<pad>', '<pad>', '<pad>', '<pad>', '<pad>', '<pad>', '<pad>', '<pad>', '<pad>', '<pad>', '<pad>', '<pad>', '<pad>', '<pad>', '<pad>', '<pad>', '<pad>', '<pad>', '<pad>', '<pad>', '<pad>', '<pad>', '<pad>', '<pad>', '<pad>', '<pad>', '<pad>', '<pad>', '<pad>', '<pad>', '<pad>', '<pad>', '<pad>', '<pad>', '<pad>', '<pad>', '<pad>', '<pad>', '<pad>', '<pad>', '<pad>', '<pad>', '<pad>', '<pad>', '<pad>', '<pad>', '<pad>', '<pad>', '<pad>', '<pad>', '<pad>', '<pad>', '<pad>', '<pad>', '<pad>', '<pad>', '<pad>', '<pad>', '<pad>', '<pad>', '<pad>', '<pad>', '<pad>', '<pad>', '<pad>', '<pad>', '<pad>', '<pad>', '<pad>', '<pad>', '<pad>', '<pad>', '<pad>', '<pad>', '<pad>', '<pad>', '<pad>', '<pad>', '<pad>', '<pad>', '<pad>', '<pad>', '<pad>', '<pad>', '<pad>', '<pad>', '<pad>', '<pad>', '<pad>', '<pad>', '<pad>', '<pad>', '<pad>', '<pad>', '<pad>', '<pad>', '<pad>', '<pad>', '<pad>', '<pad>', '<pad>', '<pad>', '<pad>', '<pad>', '<pad>', '<pad>', '<pad>', '<pad>', '<pad>', '<pad>', '<pad>', '<pad>', '<pad>', '<pad>', '<pad>', '<pad>', '<pad>', '<pad>', '<pad>', '<pad>', '<pad>', '<pad>', '<pad>', '<pad>', '<pad>', '<pad>', '<pad>', '<pad>', '<pad>', '<pad>', '<pad>', '<pad>', '<pad>', '<pad>', '<pad>', '<pad>', '<pad>', '<pad>', '<pad>', '<pad>', '<pad>', '<pad>', '<pad>', '<pad>', '<pad>', '<pad>', '<pad>', '<pad>', '<pad>', '<pad>', '<pad>', '<pad>', '<pad>', '<pad>', '<pad>', '<pad>', '<pad>', '<pad>', '<pad>', '<pad>', '<pad>', '<pad>', '<pad>', '<pad>', '<pad>', '<pad>', '<pad>', '<pad>', '<pad>', '<pad>', '<pad>', '<pad>', '<pad>', '<pad>', '<pad>', '<pad>', '<pad>', '<pad>', '<pad>', '<pad>', '<pad>', '<pad>', '<pad>', '<pad>', '<pad>', '<pad>', '<pad>', '<pad>', '<pad>', '<pad>', '<pad>', '<pad>', '<pad>', '<pad>', '<pad>', '<pad>', '<pad>', '<pad>', '<pad>', '<pad>', '<pad>', '<pad>', '<pad>', '<pad>', '<pad>', '<pad>', '<pad>', '<pad>', '<pad>', '<pad>', '<pad>', '<pad>', '<pad>', '<pad>', '<pad>', '<pad>', '<pad>', '<pad>', '<pad>', '<pad>', '<pad>', '<pad>', '<pad>', '<pad>', '<pad>', '<pad>', '<pad>', '<pad>', '<pad>', '<pad>', '<pad>', '<pad>', '<pad>', '<pad>', '<pad>', '<pad>', '<pad>', '<pad>', '<pad>', '<pad>', '<pad>', '<pad>', '<pad>', '<pad>', '<pad>', '<pad>', '<pad>', '<pad>', '<pad>', '<pad>', '<pad>', '<pad>', '<pad>', '<pad>', '<pad>', '<pad>', '<pad>', '<pad>', '<pad>', '<pad>', '<pad>', '<pad>', '<pad>', '<pad>', '<pad>', '<pad>', '<pad>', '<pad>', '<pad>', '<pad>', '<pad>', '<pad>', '<pad>', '<pad>', '<pad>', '<pad>', '<pad>', '<pad>', '<pad>', '<pad>', '<pad>', '<pad>', '<pad>', '<pad>', '<pad>', '<pad>', '<pad>', '<pad>', '<pad>', '<pad>', '<pad>', '<pad>', '<pad>', '<pad>', '<pad>', '<pad>', '<pad>', '<pad>', '<pad>', '<pad>', '<pad>', '<pad>', '<pad>', '<pad>', '<pad>', '<pad>', '<pad>', '<pad>', '<pad>', '<pad>', '<pad>', '<pad>', '<pad>', '<pad>', '<pad>', '<pad>', '<pad>', '<pad>', '<pad>', '<pad>', '<pad>', '<pad>', '<pad>', '<pad>', '<pad>', '<pad>', '<pad>', '<pad>', '<pad>', '<pad>', '<pad>', '<pad>', '<pad>', '<pad>', '<pad>', '<pad>', '<pad>', '<pad>', '<pad>', '<pad>', '<pad>', '<pad>', '<pad>', '<pad>', '<pad>', '<pad>', '<pad>', '<pad>', '<pad>', '<pad>', '<pad>', '<pad>', '<pad>', '<pad>', '<pad>', '<pad>', '<pad>', '<pad>', '<pad>', '<pad>', '<pad>', '<pad>', '<pad>', '<pad>', '<pad>', '<pad>', '<pad>', '<pad>', '<pad>', '<pad>', '<pad>', '<pad>', '<pad>', '<pad>', '<pad>', '<pad>', '<pad>', '<pad>', '<pad>', '<pad>', '<pad>', '<pad>', '<pad>', '<pad>', '<pad>', '<pad>', '<pad>', '<pad>', '<pad>', '<pad>', '<pad>', '<pad>', '<pad>', '<pad>', '<pad>', '<pad>', '<pad>', '<pad>', '<pad>', '<pad>', '<pad>', '<pad>', '<pad>', '<pad>', '<pad>', '<pad>', '<pad>', '<pad>', '<pad>', '<pad>', '<pad>', '<pad>', '<pad>', '<pad>', '<pad>', '<pad>', '<pad>', '<pad>', '<pad>', '<pad>', '<pad>', '<pad>', '<pad>', '<pad>', '<pad>', '<pad>', '<pad>', '<pad>', '<pad>', '<pad>', '<pad>', '<pad>', '<pad>', '<pad>', '<pad>', '<pad>', '<pad>', '<pad>', '<pad>', '<pad>', '<pad>', '<pad>', '<pad>', '<pad>', '<pad>', '<pad>', '<pad>', '<pad>', '<pad>', '<pad>', '<pad>', '<pad>', '<pad>', '<pad>', '<pad>', '<pad>', '<pad>', '<pad>', '<pad>', '<pad>', '<pad>', '<pad>', '<pad>', '<pad>', '<pad>', '<pad>', '<pad>', '<pad>', '<pad>', '<pad>', '<pad>', '<pad>', '<pad>', '<pad>', '<pad>', '<pad>', '<pad>', '<pad>', '<pad>', '<pad>', '<pad>', '<pad>', '<pad>', '<pad>', '<pad>', '<pad>', '<pad>', '<pad>', '<pad>', '<pad>', '<pad>', '<pad>', '<pad>', '<pad>', '<pad>', '<pad>', '<pad>', '<pad>', '<pad>', '<pad>', '<pad>', '<pad>', '<pad>', '<pad>', '<pad>', '<pad>', '<pad>', '<pad>', '<pad>', '<pad>', '<pad>', '<pad>', '<pad>', '<pad>', '<pad>', '<pad>', '<pad>', '<pad>', '<pad>', '<pad>', '<pad>', '<pad>', '<pad>', '<pad>', '<pad>', '<pad>', '<pad>', '<pad>', '<pad>', '<pad>', '<pad>', '<pad>', '<pad>', '<pad>', '<pad>', '<pad>', '<pad>', '<pad>', '<pad>', '<pad>', '<pad>', '<pad>', '<pad>', '<pad>', '<pad>', '<pad>', '<pad>', '<pad>', '<pad>', '<pad>', '<pad>', '<pad>', '<pad>', '<pad>', '<pad>', '<pad>', '<pad>', '<pad>', '<pad>', '<pad>', '<pad>', '<pad>', '<pad>', '<pad>', '<pad>', '<pad>', '<pad>', '<pad>', '<pad>', '<pad>', '<pad>', '<pad>', '<pad>', '<pad>', '<pad>', '<pad>', '<pad>', '<pad>', '<pad>', '<pad>', '<pad>', '<pad>', '<pad>', '<pad>', '<pad>', '<pad>', '<pad>', '<pad>', '<pad>', '<pad>', '<pad>', '<pad>', '<pad>', '<pad>', '<pad>', '<pad>', '<pad>', '<pad>', '<pad>', '<pad>', '<pad>', '<pad>', '<pad>', '<pad>', '<pad>', '<pad>', '<pad>', '<pad>', '<pad>', '<pad>', '<pad>', '<pad>', '<pad>', '<pad>', '<pad>', '<pad>', '<pad>', '<pad>', '<pad>', '<pad>', '<pad>', '<pad>', '<pad>', '<pad>', '<pad>', 'ok', 'so', \"here's\", 'the', 'basic', 'plot.', 'it', 'is', '<unk>', 'peter', 'sellers', 'is', 'dr', 'fu', '<unk>', 'a', '<unk>', 'year', 'old', 'chinese', 'man', 'who', 'has', 'lived', 'quite', 'a', 'long', 'time.', 'the', 'film', 'opens', 'with', 'his', 'birthday', 'in', 'which', 'he', '<unk>', 'by', 'drinking', 'a', 'special', '<unk>', 'that', '(even', 'the', 'film', 'never', '<unk>', '<unk>', 'his', 'life.', 'well', 'on', 'this', 'occasion', 'the', '<unk>', 'is', '<unk>', 'dropped', 'by', 'an', 'assistant', '<unk>', 'if', 'you', 'remember', 'the', 'pink', '<unk>', '<unk>', 'and', 'he', 'orders', 'his', '<unk>', 'to', 'then', 'go', 'find', '6', 'rare', 'items', 'to', 'make', 'the', '<unk>', 'this', 'creates', 'a', 'global', 'man', 'hunt', 'in', 'which', 'his', '<unk>', 'end', 'up', '<unk>', '<unk>', 'of', '<unk>', 'and', '<unk>', 'into', 'london,', 'to', 'meet', 'up', 'with', 'dr', '<unk>', '<unk>', 'a', 'retired', 'scotland', 'yard', 'detective', '<unk>', 'smith,', 'also', 'played', 'by', 'sellers', 'who', 'tries', 'to', 'stop', 'him', 'in', 'what', 'is', 'suppose', 'to', 'be', 'a', 'witty', 'comedic', '<unk>', '/><br', '/>this', 'was', '<unk>', 'sellers', 'last', 'full', 'length', 'feature', 'film', 'that', 'he', 'made', 'before', 'he', 'died.', 'the', 'terrible', 'tragedy', 'is', 'that', 'he', 'was', 'in', 'it.', 'sellers', 'who', 'is', 'such', 'a', 'gifted', 'comedian', 'and', 'has', 'had', 'memorable', '<unk>', 'roles', 'in', 'the', '<unk>', 'movies', 'and', '<unk>', 'in', 'the', 'movie', \"'the\", '<unk>', 'is', 'anything', 'but', 'that', 'in', 'this', 'film.', 'this', 'film', 'was', 'absolute', 'torture', 'to', 'sit', 'through', 'and', 'i', \"couldn't\", 'even', 'finish', 'it.', 'he', '<unk>', 'dies', 'and', 'i', 'kept', '<unk>', 'while', 'watching', 'sellers', 'performance.', 'after', 'coming', 'of', 'the', 'great', 'work', 'of', '<unk>', '<unk>', 'a', 'year', 'earlier', '<unk>', 'i', 'mean', 'how', 'can', 'he', 'make', 'this', 'and', 'how', 'did', 'this', 'thing', 'even', 'get', '<unk>', 'like', 'one', 'person', 'mentioned', 'the', 'first', '<unk>', 'minutes', 'are', 'ok', 'but', 'then', 'it', 'is', 'all', '<unk>', '/><br', '/>avoid', 'like', 'the', '<unk>', '/><br', '<unk>', '1', 'out', 'of', '10.\\n', '<pad>', '<pad>', '<pad>', '<pad>', '<pad>', '<pad>', '<pad>', '<pad>', '<pad>', '<pad>', '<pad>', '<pad>', '<pad>', '<pad>', '<pad>', '<pad>', '<pad>', '<pad>', '<pad>', '<pad>', '<pad>', '<pad>', '<pad>', '<pad>', '<pad>', '<pad>', '<pad>', '<pad>', '<pad>', '<pad>', '<pad>', '<pad>', '<pad>', '<pad>', '<pad>', '<pad>', '<pad>', '<pad>', '<pad>', '<pad>', '<pad>', '<pad>', '<pad>', '<pad>', '<pad>', '<pad>', '<pad>', '<pad>', '<pad>', '<pad>', '<pad>', '<pad>', '<pad>', '<pad>', '<pad>', '<pad>', '<pad>', '<pad>', '<pad>', '<pad>', '<pad>', '<pad>', '<pad>', '<pad>', '<pad>', '<pad>', '<pad>', '<pad>', '<pad>', '<pad>', '<pad>', '<pad>', '<pad>', '<pad>', '<pad>', '<pad>', '<pad>', '<pad>', '<pad>', '<pad>', '<pad>', '<pad>', '<pad>', '<pad>', '<pad>', '<pad>', '<pad>', '<pad>', '<pad>', '<pad>', '<pad>', '<pad>', '<pad>', '<pad>', '<pad>', '<pad>', '<pad>', '<pad>', '<pad>', '<pad>', '<pad>', '<pad>', '<pad>', '<pad>', '<pad>', '<pad>', '<pad>', '<pad>', '<pad>', '<pad>', '<pad>', '<pad>', '<pad>', '<pad>', '<pad>', '<pad>', '<pad>', '<pad>', '<pad>', '<pad>', '<pad>', '<pad>', '<pad>', '<pad>', '<pad>', '<pad>', '<pad>', '<pad>', '<pad>', '<pad>', '<pad>', '<pad>', '<pad>', '<pad>', '<pad>', '<pad>', '<pad>', '<pad>', '<pad>', '<pad>', '<pad>', '<pad>', '<pad>', '<pad>', '<pad>', '<pad>', '<pad>', '<pad>', '<pad>', '<pad>', '<pad>', '<pad>', '<pad>', '<pad>', '<pad>', '<pad>', '<pad>', '<pad>', '<pad>', '<pad>', '<pad>', '<pad>', '<pad>', '<pad>', '<pad>', '<pad>', '<pad>', '<pad>', '<pad>', '<pad>', '<pad>', '<pad>', '<pad>', '<pad>', '<pad>', '<pad>', '<pad>', '<pad>', '<pad>', '<pad>', '<pad>', '<pad>', '<pad>', '<pad>', '<pad>', '<pad>', '<pad>', '<pad>', '<pad>', '<pad>', '<pad>', '<pad>', '<pad>', '<pad>', '<pad>', '<pad>', '<pad>', '<pad>', '<pad>', '<pad>', '<pad>', '<pad>', '<pad>', '<pad>', '<pad>', '<pad>', '<pad>', '<pad>', '<pad>', '<pad>', '<pad>', '<pad>', '<pad>', '<pad>', '<pad>', '<pad>', '<pad>', '<pad>', '<pad>', '<pad>', '<pad>', '<pad>', '<pad>', '<pad>', '<pad>', '<pad>', '<pad>', '<pad>', '<pad>', '<pad>', '<pad>', '<pad>', '<pad>', '<pad>', '<pad>', '<pad>', '<pad>', '<pad>', '<pad>', '<pad>', '<pad>', '<pad>', '<pad>', '<pad>', '<pad>', '<pad>', '<pad>', '<pad>', '<pad>', '<pad>', '<pad>', '<pad>', '<pad>', '<pad>', '<pad>', '<pad>', '<pad>', '<pad>', '<pad>', '<pad>', '<pad>', '<pad>', '<pad>', '<pad>', '<pad>', '<pad>', '<pad>', '<pad>', '<pad>', '<pad>', '<pad>', '<pad>', '<pad>', '<pad>', '<pad>', '<pad>', '<pad>', '<pad>', '<pad>', '<pad>', '<pad>', '<pad>', '<pad>', '<pad>', '<pad>', '<pad>', '<pad>', '<pad>', '<pad>', '<pad>', '<pad>', '<pad>', '<pad>', '<pad>', '<pad>', '<pad>', '<pad>', '<pad>', '<pad>', '<pad>', '<pad>', '<pad>', '<pad>', '<pad>', '<pad>', '<pad>', '<pad>', '<pad>', '<pad>', '<pad>', '<pad>', '<pad>', '<pad>', '<pad>', '<pad>', '<pad>', '<pad>', '<pad>', '<pad>', '<pad>', '<pad>', '<pad>', '<pad>', '<pad>', '<pad>', '<pad>', '<pad>', '<pad>', '<pad>', '<pad>', '<pad>', '<pad>', '<pad>', '<pad>', '<pad>', '<pad>', '<pad>', '<pad>', '<pad>', '<pad>', '<pad>', '<pad>', '<pad>', '<pad>', '<pad>', '<pad>', '<pad>', '<pad>', '<pad>', '<pad>', '<pad>', '<pad>', '<pad>', '<pad>', '<pad>', '<pad>', '<pad>', '<pad>', '<pad>', '<pad>', '<pad>', '<pad>', '<pad>', '<pad>', '<pad>', '<pad>', '<pad>', '<pad>', '<pad>', '<pad>', '<pad>', '<pad>', '<pad>', '<pad>', '<pad>', '<pad>', '<pad>', '<pad>', '<pad>', '<pad>', '<pad>', '<pad>', '<pad>', '<pad>', '<pad>', '<pad>', '<pad>', '<pad>', '<pad>', '<pad>', '<pad>', '<pad>', '<pad>', '<pad>', '<pad>', '<pad>', '<pad>', '<pad>', '<pad>', '<pad>', '<pad>', '<pad>', '<pad>', '<pad>', '<pad>', '<pad>', '<pad>', '<pad>', '<pad>', '<pad>', '<pad>', '<pad>', '<pad>', '<pad>', '<pad>', '<pad>', '<pad>', '<pad>', '<pad>', '<pad>', '<pad>', '<pad>', '<pad>', '<pad>', '<pad>', '<pad>', '<pad>', '<pad>', '<pad>', '<pad>', '<pad>', '<pad>', '<pad>', '<pad>', '<pad>', '<pad>', '<pad>', '<pad>', '<pad>', '<pad>', '<pad>', '<pad>', '<pad>', '<pad>', '<pad>', '<pad>', '<pad>', '<pad>', '<pad>', '<pad>', '<pad>', '<pad>', '<pad>', '<pad>', '<pad>', '<pad>', '<pad>', '<pad>', '<pad>', '<pad>', '<pad>', '<pad>', '<pad>', '<pad>', '<pad>', '<pad>', '<pad>', '<pad>', '<pad>', '<pad>', '<pad>', '<pad>', '<pad>', '<pad>', '<pad>', '<pad>', '<pad>', '<pad>', '<pad>', '<pad>', '<pad>', '<pad>', '<pad>', '<pad>', '<pad>', '<pad>', '<pad>', '<pad>', '<pad>', '<pad>', '<pad>', '<pad>', '<pad>', '<pad>', '<pad>', '<pad>', '<pad>', '<pad>', '<pad>', '<pad>', '<pad>', '<pad>', '<pad>', '<pad>', '<pad>', '<pad>', '<pad>', '<pad>', '<pad>', '<pad>', '<pad>', '<pad>', '<pad>', '<pad>', '<pad>', '<pad>', '<pad>', '<pad>', '<pad>', '<pad>', '<pad>', '<pad>', '<pad>', 'when', 'you', 'look', 'at', 'this', 'now', 'and', 'hear', 'all', 'the', 'language', 'in', 'here,', \"it's\", 'amazing', 'this', 'was', 'rated', '<unk>', 'but', \"that's\", 'the', '1970s', 'rating', 'system', 'for', 'you.', 'peter', 'falk', '<unk>', 'out', 'the', '<unk>', 'name', 'in', '<unk>', 'six', 'times', 'in', 'the', 'first', 'ten', 'minutes', 'alone', 'in', 'this', 'movie!', 'yet,', 'few', 'people', 'consider', 'that', '<unk>', 'and', 'certainly', 'not', 'the', '<unk>', 'who', 'make', 'movies', 'nor', 'the', 'people', 'who', '<unk>', 'them.<br', '/><br', '/>the', 'cast', 'is', 'a', 'clue', 'to', 'how', '<unk>', 'this', 'film', 'can', '<unk>', '<unk>', 'peter', '<unk>', 'allen', '<unk>', 'warren', '<unk>', '<unk>', '<unk>', 'and', 'paul', '<unk>', \"aren't\", 'exactly', 'actors', 'you', \"wouldn't\", 'find', 'in', '\"the', 'sound', 'of', '<unk>', '/><br', '/>i', 'like', 'heist', 'movies,', 'and', 'a', 'lot', 'of', 'films', 'by', 'director', 'william', '<unk>', 'but', 'this', 'script', \"doesn't\", 'deliver', 'and', 'it', 'just', 'has', 'way', 'too', 'much', 'of', 'the', '<unk>', '<unk>', 'feel', 'to', 'it,', 'visually', 'and', '<unk>', 'for', 'those', 'who', 'loved', 'falk', 'in', '<unk>', '<unk>', 'it', 'must', 'come', 'as', 'a', 'shock', 'to', 'hear', 'him', 'use', 'as', 'much', '<unk>', 'as', 'he', 'did', 'in', 'films.', 'this', 'is', 'far', 'from', 'the', 'only', '<unk>', '<pad>', '<pad>', '<pad>', '<pad>', '<pad>', '<pad>', '<pad>', '<pad>', '<pad>', '<pad>', '<pad>', '<pad>', '<pad>', '<pad>', '<pad>', '<pad>', '<pad>', '<pad>', '<pad>', '<pad>', '<pad>', '<pad>', '<pad>', '<pad>', '<pad>', '<pad>', '<pad>', '<pad>', '<pad>', '<pad>', '<pad>', '<pad>', '<pad>', '<pad>', '<pad>', '<pad>', '<pad>', '<pad>', '<pad>', '<pad>', '<pad>', '<pad>', '<pad>', '<pad>', '<pad>', '<pad>', '<pad>', '<pad>', '<pad>', '<pad>', '<pad>', '<pad>', '<pad>', '<pad>', '<pad>', '<pad>', '<pad>', '<pad>', '<pad>', '<pad>', '<pad>', '<pad>', '<pad>', '<pad>', '<pad>', '<pad>', '<pad>', '<pad>', '<pad>', '<pad>', '<pad>', '<pad>', '<pad>', '<pad>', '<pad>', '<pad>', '<pad>', '<pad>', '<pad>', '<pad>', '<pad>', '<pad>', '<pad>', '<pad>', '<pad>', '<pad>', '<pad>', '<pad>', '<pad>', '<pad>', '<pad>', '<pad>', '<pad>', '<pad>', '<pad>', '<pad>', '<pad>', '<pad>', '<pad>', '<pad>', '<pad>', '<pad>', '<pad>', '<pad>', '<pad>', '<pad>', '<pad>', '<pad>', '<pad>', '<pad>', '<pad>', '<pad>', '<pad>', '<pad>', '<pad>', '<pad>', '<pad>', '<pad>', '<pad>', '<pad>', '<pad>', '<pad>', '<pad>', '<pad>', '<pad>', '<pad>', '<pad>', '<pad>', '<pad>', '<pad>', '<pad>', '<pad>', '<pad>', '<pad>', '<pad>', '<pad>', '<pad>', '<pad>', '<pad>', '<pad>', '<pad>', '<pad>', '<pad>', '<pad>', '<pad>', '<pad>', '<pad>', '<pad>', '<pad>', '<pad>', '<pad>', '<pad>', '<pad>', '<pad>', '<pad>', '<pad>', '<pad>', '<pad>', '<pad>', '<pad>', '<pad>', '<pad>', '<pad>', '<pad>', '<pad>', '<pad>', '<pad>', '<pad>', '<pad>', '<pad>', '<pad>', '<pad>', '<pad>', '<pad>', '<pad>', '<pad>', '<pad>', '<pad>', '<pad>', '<pad>', '<pad>', '<pad>', '<pad>', '<pad>', '<pad>', '<pad>', '<pad>', '<pad>', '<pad>', '<pad>', '<pad>', '<pad>', '<pad>', '<pad>', '<pad>', '<pad>', '<pad>', '<pad>', '<pad>', '<pad>', '<pad>', '<pad>', '<pad>', '<pad>', '<pad>', '<pad>', '<pad>', '<pad>', '<pad>', '<pad>', '<pad>', '<pad>', '<pad>', '<pad>', '<pad>', '<pad>', '<pad>', '<pad>', '<pad>', '<pad>', '<pad>', '<pad>', '<pad>', '<pad>', '<pad>', '<pad>', '<pad>', '<pad>', '<pad>', '<pad>', '<pad>', '<pad>', '<pad>', '<pad>', '<pad>', '<pad>', '<pad>', '<pad>', '<pad>', '<pad>', '<pad>', '<pad>', '<pad>', '<pad>', '<pad>', '<pad>', '<pad>', '<pad>', '<pad>', '<pad>', '<pad>', '<pad>', '<pad>', '<pad>', '<pad>', '<pad>', '<pad>', '<pad>', '<pad>', '<pad>', '<pad>', '<pad>', '<pad>', '<pad>', '<pad>', '<pad>', '<pad>', '<pad>', '<pad>', '<pad>', '<pad>', '<pad>', '<pad>', '<pad>', '<pad>', '<pad>', '<pad>', '<pad>', '<pad>', '<pad>', '<pad>', '<pad>', '<pad>', '<pad>', '<pad>', '<pad>', '<pad>', '<pad>', '<pad>', '<pad>', '<pad>', '<pad>', '<pad>', '<pad>', '<pad>', '<pad>', '<pad>', '<pad>', '<pad>', '<pad>', '<pad>', '<pad>', '<pad>', '<pad>', '<pad>', '<pad>', '<pad>', '<pad>', '<pad>', '<pad>', '<pad>', '<pad>', '<pad>', '<pad>', '<pad>', '<pad>', '<pad>', '<pad>', '<pad>', '<pad>', '<pad>', '<pad>', '<pad>', '<pad>', '<pad>', '<pad>', '<pad>', '<pad>', '<pad>', '<pad>', '<pad>', '<pad>', '<pad>', '<pad>', '<pad>', '<pad>', '<pad>', '<pad>', '<pad>', '<pad>', '<pad>', '<pad>', '<pad>', '<pad>', '<pad>', '<pad>', '<pad>', '<pad>', '<pad>', '<pad>', '<pad>', '<pad>', '<pad>', '<pad>', '<pad>', '<pad>', '<pad>', '<pad>', '<pad>', '<pad>', '<pad>', '<pad>', '<pad>', '<pad>', '<pad>', '<pad>', '<pad>', '<pad>', '<pad>', '<pad>', '<pad>', '<pad>', '<pad>', '<pad>', '<pad>', '<pad>', '<pad>', '<pad>', '<pad>', '<pad>', '<pad>', '<pad>', '<pad>', '<pad>', '<pad>', '<pad>', '<pad>', '<pad>', '<pad>', '<pad>', '<pad>', '<pad>', '<pad>', '<pad>', '<pad>', '<pad>', '<pad>', '<pad>', '<pad>', '<pad>', '<pad>', '<pad>', '<pad>', '<pad>', '<pad>', '<pad>', '<pad>', '<pad>', '<pad>', '<pad>', '<pad>', '<pad>', '<pad>', '<pad>', '<pad>', '<pad>', '<pad>', '<pad>', '<pad>', '<pad>', '<pad>', '<pad>', '<pad>', '<pad>', '<pad>', '<pad>', '<pad>', '<pad>', '<pad>', '<pad>', '<pad>', '<pad>', '<pad>', '<pad>', '<pad>', '<pad>', '<pad>', '<pad>', '<pad>', '<pad>', '<pad>', '<pad>', '<pad>', '<pad>', '<pad>', '<pad>', '<pad>', '<pad>', '<pad>', '<pad>', '<pad>', '<pad>', '<pad>', '<pad>', '<pad>', '<pad>', '<pad>', '<pad>', '<pad>', '<pad>', '<pad>', '<pad>', '<pad>', '<pad>', '<pad>', '<pad>', '<pad>', '<pad>', '<pad>', '<pad>', '<pad>', '<pad>', '<pad>', '<pad>', '<pad>', '<pad>', '<pad>', '<pad>', '<pad>', '<pad>', '<pad>', '<pad>', '<pad>', '<pad>', '<pad>', '<pad>', '<pad>', '<pad>', '<pad>', '<pad>', '<pad>', '<pad>', '<pad>', '<pad>', '<pad>', '<pad>', '<pad>', '<pad>', '<pad>', '<pad>', '<pad>', '<pad>', '<pad>', '<pad>', '<pad>', '<pad>', '<pad>', '<pad>', '<pad>', '<pad>', '<pad>', '<pad>', '<pad>', '<pad>', '<pad>', '<pad>', '<pad>', '<pad>', '<pad>', '<pad>', '<pad>', '<pad>', '<pad>', '<pad>', '<pad>', '<pad>', '<pad>', '<pad>', '<pad>', '<pad>', '<pad>', '<pad>', '<pad>', '<pad>', '<pad>', '<pad>', '<pad>', '<pad>', '<pad>', '<pad>', '<pad>', '<pad>', '<pad>', '<pad>', '<pad>', '<pad>', '<pad>', '<pad>', '<pad>', '<pad>', '<pad>', '<pad>', '<pad>', '<pad>', '<pad>', '<pad>', '<pad>', '<pad>', '<pad>', '<pad>', '<pad>', '<pad>', '<pad>', '<pad>', '<pad>', '<pad>', '<pad>', '<pad>', '<pad>', '<pad>', '<pad>', '<pad>', '<pad>', '<pad>', '<pad>', '<pad>', '<pad>', '<pad>', '<pad>', '<pad>', '<pad>', '<pad>', '<pad>', '<pad>', '<pad>', '<pad>', '<pad>', '<pad>', '<pad>', '<pad>', '<pad>', '<pad>', '<pad>', '<pad>', '<pad>', '<pad>', '<pad>', '<pad>', '<pad>', '<pad>', '<pad>', '<pad>', '<pad>', '<pad>', '<pad>', '<pad>', '<pad>', '<pad>', '<pad>', '<pad>', '<pad>', '<pad>', '<pad>', '<pad>', '<pad>', '<pad>', '<pad>', '<pad>', '<pad>', '<pad>', '<pad>', '<pad>', '<pad>', '<pad>', '<pad>', '<pad>', '<pad>', '<pad>']\n"
     ]
    }
   ],
   "source": [
    "index2word(rights)\n",
    "index2word(wrongs)"
   ]
  },
  {
   "cell_type": "code",
   "execution_count": 44,
   "metadata": {
    "collapsed": true
   },
   "outputs": [],
   "source": [
    "a = 'i', 'h a v e', 'r e a d', 'a l l', 'o f', 't h e', 'l o v e', 'c o m e', '< u n k >', 'b o o k s .', 'k n o w i n g', 'f u l l', 'w e l l', 't h a t', 'm o v i e s', 'c a n', 'n o t', 'u s e', 'a l l', 'a s p e c t s', 'o f', 't h e', '< u n k >', 'g e n e r a l l y', 't h e y', 'a t', 'l e a s t', 'h a v e', 't h e', 'm a i n', 'p o i n t', 'o f', 't h e', 'b o o k .', 'i', 'w a s', 'h i g h l y', 'd i s a p p o i n t e d', 'i n', 't h i s', 'm o v i e .', 't h e', 'o n l y', 't h i n g', 't h a t', 't h e y', 'h a v e', 'i n', 't h i s', 'm o v i e', 't h a t', 'i s', 'i n', 't h e', 'b o o k', 'i s', 't h a t', '< u n k >', 'f a t h e r', 'c o m e s', 't o', '< u n k >', 'i n', 't h e', 'b o o k', 'b o t h', 'p a r e n t s', '< u n k >', 't h a t', 'i s', 'a l l .', 't h e', 's t o r y', 'l i n e', 'w a s', 's o', 't w i s t e d', 'a n d', 'f a r', '< u n k >', 'a n d', 'y e s ,', 's a d ,', 'f r o m', 't h e', 'b o o k ,', 't h a t', 'i', 'j u s t', \"c o u l d n ' t\", 'e n j o y', 'i t .', 'e v e n', 'i f', 'i', \"d i d n ' t\", 'r e a d', 't h e', 'b o o k', 'i t', 'w a s', 't o o', 's a d .', 'i', 'd o', 'k n o w', 't h a t', '< u n k >', 'l i f e', 'w a s', '< u n k >', 't h e', 'w h o l e', 'm o v i e', 'w a s', 'a', '< u n k >', 't h e', 'r a t i n g', 'i s', 'f o r', 'h a v i n g', 't h e', 's a m e', 'f a m i l y', '< u n k >', 'o f', 't h e', 'f i l m', 't h a t', 'm a k e s', 't h e m'"
   ]
  },
  {
   "cell_type": "code",
   "execution_count": 47,
   "metadata": {},
   "outputs": [],
   "source": [
    "import re\n",
    "REPLACE_NO_SPACE = re.compile(\"(\\')\")"
   ]
  },
  {
   "cell_type": "code",
   "execution_count": null,
   "metadata": {
    "collapsed": true
   },
   "outputs": [],
   "source": [
    "REPLACE_NO_SPACE.sub(\"\", line)"
   ]
  }
 ],
 "metadata": {
  "anaconda-cloud": {},
  "kernelspec": {
   "display_name": "Python [conda env:anaconda]",
   "language": "python",
   "name": "conda-env-anaconda-py"
  },
  "language_info": {
   "codemirror_mode": {
    "name": "ipython",
    "version": 3
   },
   "file_extension": ".py",
   "mimetype": "text/x-python",
   "name": "python",
   "nbconvert_exporter": "python",
   "pygments_lexer": "ipython3",
   "version": "3.5.3"
  }
 },
 "nbformat": 4,
 "nbformat_minor": 1
}
